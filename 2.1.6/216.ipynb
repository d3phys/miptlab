{
 "cells": [
  {
   "cell_type": "code",
   "execution_count": 1,
   "id": "acff9604",
   "metadata": {},
   "outputs": [],
   "source": [
    "import numpy as np\n",
    "import pandas as pd\n",
    "import matplotlib.pyplot as plt\n",
    "import scipy as sp\n",
    "from scipy.interpolate import UnivariateSpline"
   ]
  },
  {
   "cell_type": "code",
   "execution_count": 2,
   "id": "517563e5",
   "metadata": {
    "scrolled": true
   },
   "outputs": [
    {
     "data": {
      "text/html": [
       "<div>\n",
       "<style scoped>\n",
       "    .dataframe tbody tr th:only-of-type {\n",
       "        vertical-align: middle;\n",
       "    }\n",
       "\n",
       "    .dataframe tbody tr th {\n",
       "        vertical-align: top;\n",
       "    }\n",
       "\n",
       "    .dataframe thead th {\n",
       "        text-align: right;\n",
       "    }\n",
       "</style>\n",
       "<table border=\"1\" class=\"dataframe\">\n",
       "  <thead>\n",
       "    <tr style=\"text-align: right;\">\n",
       "      <th></th>\n",
       "      <th>p20</th>\n",
       "      <th>u20</th>\n",
       "      <th>p30</th>\n",
       "      <th>u30</th>\n",
       "      <th>p40</th>\n",
       "      <th>u40</th>\n",
       "      <th>p45</th>\n",
       "      <th>u45</th>\n",
       "      <th>p50</th>\n",
       "      <th>u50</th>\n",
       "      <th>Unnamed: 10</th>\n",
       "      <th>t</th>\n",
       "      <th>trans</th>\n",
       "    </tr>\n",
       "  </thead>\n",
       "  <tbody>\n",
       "    <tr>\n",
       "      <th>0</th>\n",
       "      <td>4.00</td>\n",
       "      <td>130</td>\n",
       "      <td>4.00</td>\n",
       "      <td>125</td>\n",
       "      <td>4.00</td>\n",
       "      <td>115</td>\n",
       "      <td>4.00</td>\n",
       "      <td>113</td>\n",
       "      <td>4.0</td>\n",
       "      <td>113</td>\n",
       "      <td>NaN</td>\n",
       "      <td>20.0</td>\n",
       "      <td>40.7</td>\n",
       "    </tr>\n",
       "    <tr>\n",
       "      <th>1</th>\n",
       "      <td>3.60</td>\n",
       "      <td>115</td>\n",
       "      <td>3.55</td>\n",
       "      <td>105</td>\n",
       "      <td>3.60</td>\n",
       "      <td>100</td>\n",
       "      <td>3.65</td>\n",
       "      <td>102</td>\n",
       "      <td>3.6</td>\n",
       "      <td>96</td>\n",
       "      <td>NaN</td>\n",
       "      <td>30.0</td>\n",
       "      <td>41.6</td>\n",
       "    </tr>\n",
       "    <tr>\n",
       "      <th>2</th>\n",
       "      <td>3.20</td>\n",
       "      <td>97</td>\n",
       "      <td>3.15</td>\n",
       "      <td>88</td>\n",
       "      <td>3.15</td>\n",
       "      <td>84</td>\n",
       "      <td>3.20</td>\n",
       "      <td>85</td>\n",
       "      <td>3.2</td>\n",
       "      <td>81</td>\n",
       "      <td>NaN</td>\n",
       "      <td>40.0</td>\n",
       "      <td>41.6</td>\n",
       "    </tr>\n",
       "    <tr>\n",
       "      <th>3</th>\n",
       "      <td>2.85</td>\n",
       "      <td>82</td>\n",
       "      <td>2.80</td>\n",
       "      <td>73</td>\n",
       "      <td>2.80</td>\n",
       "      <td>68</td>\n",
       "      <td>2.75</td>\n",
       "      <td>68</td>\n",
       "      <td>2.8</td>\n",
       "      <td>66</td>\n",
       "      <td>NaN</td>\n",
       "      <td>45.0</td>\n",
       "      <td>42.5</td>\n",
       "    </tr>\n",
       "    <tr>\n",
       "      <th>4</th>\n",
       "      <td>2.40</td>\n",
       "      <td>60</td>\n",
       "      <td>2.45</td>\n",
       "      <td>58</td>\n",
       "      <td>2.45</td>\n",
       "      <td>56</td>\n",
       "      <td>2.35</td>\n",
       "      <td>52</td>\n",
       "      <td>2.4</td>\n",
       "      <td>52</td>\n",
       "      <td>NaN</td>\n",
       "      <td>50.0</td>\n",
       "      <td>43.6</td>\n",
       "    </tr>\n",
       "  </tbody>\n",
       "</table>\n",
       "</div>"
      ],
      "text/plain": [
       "    p20  u20   p30  u30   p40  u40   p45  u45  p50  u50  Unnamed: 10     t  \\\n",
       "0  4.00  130  4.00  125  4.00  115  4.00  113  4.0  113          NaN  20.0   \n",
       "1  3.60  115  3.55  105  3.60  100  3.65  102  3.6   96          NaN  30.0   \n",
       "2  3.20   97  3.15   88  3.15   84  3.20   85  3.2   81          NaN  40.0   \n",
       "3  2.85   82  2.80   73  2.80   68  2.75   68  2.8   66          NaN  45.0   \n",
       "4  2.40   60  2.45   58  2.45   56  2.35   52  2.4   52          NaN  50.0   \n",
       "\n",
       "   trans  \n",
       "0   40.7  \n",
       "1   41.6  \n",
       "2   41.6  \n",
       "3   42.5  \n",
       "4   43.6  "
      ]
     },
     "execution_count": 2,
     "metadata": {},
     "output_type": "execute_result"
    }
   ],
   "source": [
    "data = pd.read_excel(\"216.xlsx\")\n",
    "data.head()"
   ]
  },
  {
   "cell_type": "code",
   "execution_count": 3,
   "id": "01e4e3cf",
   "metadata": {},
   "outputs": [],
   "source": [
    "temp = data['t'].dropna()\n",
    "T = temp + 273.15"
   ]
  },
  {
   "cell_type": "code",
   "execution_count": 4,
   "id": "eb366bb2",
   "metadata": {},
   "outputs": [
    {
     "data": {
      "text/plain": [
       "0    40.7\n",
       "1    41.6\n",
       "2    41.6\n",
       "3    42.5\n",
       "4    43.6\n",
       "Name: trans, dtype: float64"
      ]
     },
     "execution_count": 4,
     "metadata": {},
     "output_type": "execute_result"
    }
   ],
   "source": [
    "trans = data['trans'].dropna()\n",
    "trans"
   ]
  },
  {
   "cell_type": "code",
   "execution_count": 5,
   "id": "777f35da",
   "metadata": {},
   "outputs": [],
   "source": [
    "def linear(x, y, label = None, shape = None):\n",
    "    plt.scatter(x, y, label=label+'$\\degree C$', marker=shape)\n",
    "    coeffs = np.polyfit(x, y, 1)\n",
    "    pol = lambda x: coeffs[0] * x + coeffs[1]\n",
    "    t = np.linspace(2, 4, 100)\n",
    "    plt.plot(t, pol(t), alpha=0.4)\n",
    "    return coeffs[0]"
   ]
  },
  {
   "cell_type": "code",
   "execution_count": 2,
   "id": "d288890d",
   "metadata": {
    "scrolled": true
   },
   "outputs": [
    {
     "ename": "NameError",
     "evalue": "name 'data' is not defined",
     "output_type": "error",
     "traceback": [
      "\u001b[1;31m---------------------------------------------------------------------------\u001b[0m",
      "\u001b[1;31mNameError\u001b[0m                                 Traceback (most recent call last)",
      "Input \u001b[1;32mIn [2]\u001b[0m, in \u001b[0;36m<module>\u001b[1;34m\u001b[0m\n\u001b[1;32m----> 1\u001b[0m latex \u001b[38;5;241m=\u001b[39m \u001b[43mdata\u001b[49m\u001b[38;5;241m.\u001b[39mstyle\u001b[38;5;241m.\u001b[39mhide(level\u001b[38;5;241m=\u001b[39m\u001b[38;5;241m0\u001b[39m, axis\u001b[38;5;241m=\u001b[39m\u001b[38;5;241m0\u001b[39m)\u001b[38;5;241m.\u001b[39mto_latex(column_format\u001b[38;5;241m=\u001b[39m\u001b[38;5;124m\"\u001b[39m\u001b[38;5;124m|c\u001b[39m\u001b[38;5;124m\"\u001b[39m \u001b[38;5;241m*\u001b[39m \u001b[38;5;241m8\u001b[39m \u001b[38;5;241m+\u001b[39m \u001b[38;5;124m\"\u001b[39m\u001b[38;5;124m|\u001b[39m\u001b[38;5;124m\"\u001b[39m)\u001b[38;5;241m.\u001b[39mreplace(\u001b[38;5;124m\"\u001b[39m\u001b[38;5;130;01m\\\\\u001b[39;00m\u001b[38;5;130;01m\\n\u001b[39;00m\u001b[38;5;124m\"\u001b[39m, \u001b[38;5;124m\"\u001b[39m\u001b[38;5;130;01m\\\\\u001b[39;00m\u001b[38;5;124m \u001b[39m\u001b[38;5;124m\\\u001b[39m\u001b[38;5;124mhline\u001b[39m\u001b[38;5;130;01m\\n\u001b[39;00m\u001b[38;5;124m\"\u001b[39m)\n\u001b[0;32m      2\u001b[0m \u001b[38;5;28mprint\u001b[39m(latex)\n",
      "\u001b[1;31mNameError\u001b[0m: name 'data' is not defined"
     ]
    }
   ],
   "source": [
    "latex = data.style.hide(level=0, axis=0).to_latex(column_format=\"|c\" * 8 + \"|\").replace(\"\\\\\\n\", \"\\\\ \\hline\\n\")\n",
    "print(latex)"
   ]
  },
  {
   "cell_type": "code",
   "execution_count": 8,
   "id": "b916b2e5",
   "metadata": {},
   "outputs": [
    {
     "data": {
      "text/plain": [
       "'\\\\begin{tabular}{lrrrrrrrrrrrrr}\\n & p20 & u20 & p30 & u30 & p40 & u40 & p45 & u45 & p50 & u50 & Unnamed: 10 & t & trans \\\\\\\\\\n0 & 4.000000 & 130 & 4.000000 & 125 & 4.000000 & 115 & 4.000000 & 113 & 4.000000 & 113 & nan & 20.000000 & 40.700000 \\\\\\\\\\n1 & 3.600000 & 115 & 3.550000 & 105 & 3.600000 & 100 & 3.650000 & 102 & 3.600000 & 96 & nan & 30.000000 & 41.600000 \\\\\\\\\\n2 & 3.200000 & 97 & 3.150000 & 88 & 3.150000 & 84 & 3.200000 & 85 & 3.200000 & 81 & nan & 40.000000 & 41.600000 \\\\\\\\\\n3 & 2.850000 & 82 & 2.800000 & 73 & 2.800000 & 68 & 2.750000 & 68 & 2.800000 & 66 & nan & 45.000000 & 42.500000 \\\\\\\\\\n4 & 2.400000 & 60 & 2.450000 & 58 & 2.450000 & 56 & 2.350000 & 52 & 2.400000 & 52 & nan & 50.000000 & 43.600000 \\\\\\\\\\n5 & 2.000000 & 48 & 2.000000 & 45 & 2.050000 & 43 & 2.050000 & 42 & 2.000000 & 38 & nan & nan & nan \\\\\\\\\\n\\\\end{tabular}\\n'"
      ]
     },
     "execution_count": 8,
     "metadata": {},
     "output_type": "execute_result"
    }
   ],
   "source": [
    "data.style.to_latex('')"
   ]
  },
  {
   "cell_type": "code",
   "execution_count": 119,
   "id": "4a18f351",
   "metadata": {
    "scrolled": true
   },
   "outputs": [
    {
     "data": {
      "text/html": [
       "<div>\n",
       "<style scoped>\n",
       "    .dataframe tbody tr th:only-of-type {\n",
       "        vertical-align: middle;\n",
       "    }\n",
       "\n",
       "    .dataframe tbody tr th {\n",
       "        vertical-align: top;\n",
       "    }\n",
       "\n",
       "    .dataframe thead th {\n",
       "        text-align: right;\n",
       "    }\n",
       "</style>\n",
       "<table border=\"1\" class=\"dataframe\">\n",
       "  <thead>\n",
       "    <tr style=\"text-align: right;\">\n",
       "      <th></th>\n",
       "      <th>45$\\Delta P$, Па</th>\n",
       "      <th>45$V,$ мкВ</th>\n",
       "      <th>45$\\Delta T,$К</th>\n",
       "      <th>5$\\Delta P$, Па</th>\n",
       "      <th>5$V,$ мкВ</th>\n",
       "      <th>5$\\Delta T,$К</th>\n",
       "    </tr>\n",
       "  </thead>\n",
       "  <tbody>\n",
       "    <tr>\n",
       "      <th>0</th>\n",
       "      <td>4.00</td>\n",
       "      <td>113</td>\n",
       "      <td>2.658824</td>\n",
       "      <td>4.0</td>\n",
       "      <td>113</td>\n",
       "      <td>2.591743</td>\n",
       "    </tr>\n",
       "    <tr>\n",
       "      <th>1</th>\n",
       "      <td>3.65</td>\n",
       "      <td>102</td>\n",
       "      <td>2.400000</td>\n",
       "      <td>3.6</td>\n",
       "      <td>96</td>\n",
       "      <td>2.201835</td>\n",
       "    </tr>\n",
       "    <tr>\n",
       "      <th>2</th>\n",
       "      <td>3.20</td>\n",
       "      <td>85</td>\n",
       "      <td>2.000000</td>\n",
       "      <td>3.2</td>\n",
       "      <td>81</td>\n",
       "      <td>1.857798</td>\n",
       "    </tr>\n",
       "    <tr>\n",
       "      <th>3</th>\n",
       "      <td>2.75</td>\n",
       "      <td>68</td>\n",
       "      <td>1.600000</td>\n",
       "      <td>2.8</td>\n",
       "      <td>66</td>\n",
       "      <td>1.513761</td>\n",
       "    </tr>\n",
       "    <tr>\n",
       "      <th>4</th>\n",
       "      <td>2.35</td>\n",
       "      <td>52</td>\n",
       "      <td>1.223529</td>\n",
       "      <td>2.4</td>\n",
       "      <td>52</td>\n",
       "      <td>1.192661</td>\n",
       "    </tr>\n",
       "    <tr>\n",
       "      <th>5</th>\n",
       "      <td>2.05</td>\n",
       "      <td>42</td>\n",
       "      <td>0.988235</td>\n",
       "      <td>2.0</td>\n",
       "      <td>38</td>\n",
       "      <td>0.871560</td>\n",
       "    </tr>\n",
       "  </tbody>\n",
       "</table>\n",
       "</div>"
      ],
      "text/plain": [
       "   45$\\Delta P$, Па  45$V,$ мкВ  45$\\Delta T,$К  5$\\Delta P$, Па  5$V,$ мкВ  \\\n",
       "0              4.00         113        2.658824              4.0        113   \n",
       "1              3.65         102        2.400000              3.6         96   \n",
       "2              3.20          85        2.000000              3.2         81   \n",
       "3              2.75          68        1.600000              2.8         66   \n",
       "4              2.35          52        1.223529              2.4         52   \n",
       "5              2.05          42        0.988235              2.0         38   \n",
       "\n",
       "   5$\\Delta T,$К  \n",
       "0       2.591743  \n",
       "1       2.201835  \n",
       "2       1.857798  \n",
       "3       1.513761  \n",
       "4       1.192661  \n",
       "5       0.871560  "
      ]
     },
     "execution_count": 119,
     "metadata": {},
     "output_type": "execute_result"
    }
   ],
   "source": [
    "'''table = pd.DataFrame({'2$\\Delta P$, Па':data['p20'].dropna(), '2$V,$ мкВ': data['u20'], '2$\\Delta T,$К' : data['u20'].dropna()/trans[0],\n",
    "                      '3$\\Delta P$, Па':data['p30'].dropna(), '3$V,$ мкВ': data['u30'], '3$\\Delta T,$К' : data['u30'].dropna()/trans[1],\n",
    "                      '4$\\Delta P$, Па':data['p40'].dropna(), '4$V,$ мкВ': data['u40'], '4$\\Delta T,$К' : data['u40'].dropna()/trans[2],\n",
    "                     })'''\n",
    "\n",
    "table = pd.DataFrame({'45$\\Delta P$, Па':data['p45'].dropna(), '45$V,$ мкВ': data['u45'], '45$\\Delta T,$К' : data['u45'].dropna()/trans[3],\n",
    "                       '5$\\Delta P$, Па':data['p50'].dropna(), '5$V,$ мкВ': data['u50'], '5$\\Delta T,$К' : data['u50'].dropna()/trans[4],\n",
    "                     })\n",
    "\n",
    "table"
   ]
  },
  {
   "cell_type": "code",
   "execution_count": 120,
   "id": "251a3251",
   "metadata": {},
   "outputs": [
    {
     "name": "stdout",
     "output_type": "stream",
     "text": [
      "\\begin{tabular}{|c|c|c|c|c|c|c|c|}\n",
      "45$\\Delta P$, Па & 45$V,$ мкВ & 45$\\Delta T,$К & 5$\\Delta P$, Па & 5$V,$ мкВ & 5$\\Delta T,$К \\\\ \\hline\n",
      "4.00 & 113 & 2.66 & 4.00 & 113 & 2.59 \\\\ \\hline\n",
      "3.65 & 102 & 2.40 & 3.60 & 96 & 2.20 \\\\ \\hline\n",
      "3.20 & 85 & 2.00 & 3.20 & 81 & 1.86 \\\\ \\hline\n",
      "2.75 & 68 & 1.60 & 2.80 & 66 & 1.51 \\\\ \\hline\n",
      "2.35 & 52 & 1.22 & 2.40 & 52 & 1.19 \\\\ \\hline\n",
      "2.05 & 42 & 0.99 & 2.00 & 38 & 0.87 \\\\ \\hline\n",
      "\\end{tabular}\n",
      "\n"
     ]
    }
   ],
   "source": [
    "'''fmt = {\"2$\\Delta P$, Па\": \"{:.2f}\", \"2$V,$ мкВ\": \"{:.0f}\", '2$\\Delta T,$К': \"{:.2f}\",\n",
    "       \"3$\\Delta P$, Па\": \"{:.2f}\", \"3$V,$ мкВ\": \"{:.0f}\", \"3$\\Delta T,$К\": \"{:.2f}\",\n",
    "       \"4$\\Delta P$, Па\": \"{:.2f}\", \"4$V,$ мкВ\": \"{:.0f}\", \"4$\\Delta T,$К\": \"{:.2f}\"}'''\n",
    "\n",
    "fmt = {\"45$\\Delta P$, Па\": \"{:.2f}\", \"45$V,$ мкВ\": \"{:.0f}\", '45$\\Delta T,$К': \"{:.2f}\",\n",
    "       \"5$\\Delta P$, Па\": \"{:.2f}\", \"5$V,$ мкВ\": \"{:.0f}\", \"5$\\Delta T,$К\": \"{:.2f}\"}\n",
    "\n",
    "latex = table.style.hide(level=0, axis=0).format(fmt).to_latex(column_format=\"|c\" * 8 + \"|\").replace(\"\\\\\\n\", \"\\\\ \\hline\\n\")\n",
    "print(latex)"
   ]
  },
  {
   "cell_type": "code",
   "execution_count": 138,
   "id": "d8096ed5",
   "metadata": {},
   "outputs": [
    {
     "data": {
      "text/plain": [
       "array([1.03917552, 0.97851297, 0.90099433, 0.87182663, 0.85517693])"
      ]
     },
     "execution_count": 138,
     "metadata": {},
     "output_type": "execute_result"
    },
    {
     "data": {
      "image/png": "[encoded data removed]",
      "text/plain": [
       "<Figure size 432x288 with 1 Axes>"
      ]
     },
     "metadata": {
      "needs_background": "light"
     },
     "output_type": "display_data"
    }
   ],
   "source": [
    "mu = np.array([\n",
    "linear(data['p20'].dropna(), data['u20'].dropna()/trans[0], '20', '*'),\n",
    "linear(data['p30'].dropna(), data['u30'].dropna()/trans[1], '30', 'o'),\n",
    "linear(data['p40'].dropna(), data['u40'].dropna()/trans[2], '40', '^'),\n",
    "linear(data['p45'].dropna(), data['u45'].dropna()/trans[3], '45', 'p'),\n",
    "linear(data['p50'].dropna(), data['u50'].dropna()/trans[4], '50', 'd'),\n",
    "])\n",
    "\n",
    "\n",
    "\n",
    "0.01974\n",
    "\n",
    "plt.title(r\"Зависимость разности температур от давления\")\n",
    "plt.ylabel(r\"$\\Delta T$, К\")\n",
    "plt.xlabel(r\"$\\Delta P$, атм\")\n",
    "plt.grid(True, linewidth=0.32)\n",
    "plt.legend()\n",
    "plt.savefig(\"Температура от давления.pdf\")\n",
    "\n",
    "mnk(data['p45'], data['u45']/trans[3])\n",
    "mu"
   ]
  },
  {
   "cell_type": "code",
   "execution_count": 142,
   "id": "44473669",
   "metadata": {
    "scrolled": true
   },
   "outputs": [
    {
     "name": "stdout",
     "output_type": "stream",
     "text": [
      "\\begin{tabular}{|c|c|c|c|c|c|c|c|}\n",
      "$\\overline{x}$ & $\\sigma_x^2$ & $\\overline{y}$ & $\\sigma_y^2$ & $r_{xy}$ & $a$ & $\\Delta a$ & $b$ & $\\Delta b$ \\\\ \\hline\n",
      "3.000 & 0.467 & 1.705 & 0.342 & 0.399 & 0.855 & 0.015 & -0.861 & 0.046 \\\\ \\hline\n",
      "\\end{tabular}\n",
      "\n"
     ]
    },
    {
     "data": {
      "text/html": [
       "<div>\n",
       "<style scoped>\n",
       "    .dataframe tbody tr th:only-of-type {\n",
       "        vertical-align: middle;\n",
       "    }\n",
       "\n",
       "    .dataframe tbody tr th {\n",
       "        vertical-align: top;\n",
       "    }\n",
       "\n",
       "    .dataframe thead th {\n",
       "        text-align: right;\n",
       "    }\n",
       "</style>\n",
       "<table border=\"1\" class=\"dataframe\">\n",
       "  <thead>\n",
       "    <tr style=\"text-align: right;\">\n",
       "      <th></th>\n",
       "      <th>$\\overline{x}$</th>\n",
       "      <th>$\\sigma_x^2$</th>\n",
       "      <th>$\\overline{y}$</th>\n",
       "      <th>$\\sigma_y^2$</th>\n",
       "      <th>$r_{xy}$</th>\n",
       "      <th>$a$</th>\n",
       "      <th>$\\Delta a$</th>\n",
       "      <th>$b$</th>\n",
       "      <th>$\\Delta b$</th>\n",
       "    </tr>\n",
       "  </thead>\n",
       "  <tbody>\n",
       "    <tr>\n",
       "      <th>0</th>\n",
       "      <td>3.0</td>\n",
       "      <td>0.466667</td>\n",
       "      <td>1.704893</td>\n",
       "      <td>0.341699</td>\n",
       "      <td>0.399083</td>\n",
       "      <td>0.855177</td>\n",
       "      <td>0.014865</td>\n",
       "      <td>-0.860638</td>\n",
       "      <td>0.045737</td>\n",
       "    </tr>\n",
       "  </tbody>\n",
       "</table>\n",
       "</div>"
      ],
      "text/plain": [
       "   $\\overline{x}$  $\\sigma_x^2$  $\\overline{y}$  $\\sigma_y^2$  $r_{xy}$  \\\n",
       "0             3.0      0.466667        1.704893      0.341699  0.399083   \n",
       "\n",
       "        $a$  $\\Delta a$       $b$  $\\Delta b$  \n",
       "0  0.855177    0.014865 -0.860638    0.045737  "
      ]
     },
     "execution_count": 142,
     "metadata": {},
     "output_type": "execute_result"
    }
   ],
   "source": [
    "df, stat = mnk(data['p50'], data['u50']/trans[4])\n",
    "latex = df.style.hide(level=0, axis=0).format(mnk_fmt).to_latex(column_format=\"|c\" * 8 + \"|\").replace(\"\\\\\\n\", \"\\\\ \\hline\\n\")\n",
    "print(latex)\n",
    "df"
   ]
  },
  {
   "cell_type": "code",
   "execution_count": 207,
   "id": "cc7d7c7b",
   "metadata": {},
   "outputs": [
    {
     "name": "stdout",
     "output_type": "stream",
     "text": [
      "\\begin{tabular}{|c|c|}\n",
      "1/T & mu \\\\ \\hline\n",
      "0.003411 & 1.039176 \\\\ \\hline\n",
      "0.003299 & 0.978513 \\\\ \\hline\n",
      "0.003193 & 0.900994 \\\\ \\hline\n",
      "0.003143 & 0.871827 \\\\ \\hline\n",
      "0.003095 & 0.855177 \\\\ \\hline\n",
      "\\end{tabular}\n",
      "\n"
     ]
    },
    {
     "data": {
      "text/html": [
       "<div>\n",
       "<style scoped>\n",
       "    .dataframe tbody tr th:only-of-type {\n",
       "        vertical-align: middle;\n",
       "    }\n",
       "\n",
       "    .dataframe tbody tr th {\n",
       "        vertical-align: top;\n",
       "    }\n",
       "\n",
       "    .dataframe thead th {\n",
       "        text-align: right;\n",
       "    }\n",
       "</style>\n",
       "<table border=\"1\" class=\"dataframe\">\n",
       "  <thead>\n",
       "    <tr style=\"text-align: right;\">\n",
       "      <th></th>\n",
       "      <th>1/T</th>\n",
       "      <th>mu</th>\n",
       "    </tr>\n",
       "  </thead>\n",
       "  <tbody>\n",
       "    <tr>\n",
       "      <th>0</th>\n",
       "      <td>0.003411</td>\n",
       "      <td>1.039176</td>\n",
       "    </tr>\n",
       "    <tr>\n",
       "      <th>1</th>\n",
       "      <td>0.003299</td>\n",
       "      <td>0.978513</td>\n",
       "    </tr>\n",
       "    <tr>\n",
       "      <th>2</th>\n",
       "      <td>0.003193</td>\n",
       "      <td>0.900994</td>\n",
       "    </tr>\n",
       "    <tr>\n",
       "      <th>3</th>\n",
       "      <td>0.003143</td>\n",
       "      <td>0.871827</td>\n",
       "    </tr>\n",
       "    <tr>\n",
       "      <th>4</th>\n",
       "      <td>0.003095</td>\n",
       "      <td>0.855177</td>\n",
       "    </tr>\n",
       "  </tbody>\n",
       "</table>\n",
       "</div>"
      ],
      "text/plain": [
       "        1/T        mu\n",
       "0  0.003411  1.039176\n",
       "1  0.003299  0.978513\n",
       "2  0.003193  0.900994\n",
       "3  0.003143  0.871827\n",
       "4  0.003095  0.855177"
      ]
     },
     "execution_count": 207,
     "metadata": {},
     "output_type": "execute_result"
    }
   ],
   "source": [
    "x = 1/T\n",
    "y = mu\n",
    "\n",
    "dat = pd.DataFrame({'1/T': x, 'mu' : y})\n",
    "latex = dat.style.hide(level=0, axis=0).to_latex(column_format=\"|c\" * 2 + \"|\").replace(\"\\\\\\n\", \"\\\\ \\hline\\n\")\n",
    "print(latex)\n",
    "dat"
   ]
  },
  {
   "cell_type": "code",
   "execution_count": 200,
   "id": "bb710699",
   "metadata": {},
   "outputs": [
    {
     "name": "stdout",
     "output_type": "stream",
     "text": [
      "\\begin{tabular}{|c|c|c|c|c|c|c|c|}\n",
      "$\\overline{x}$ & $\\sigma_x^2$ & $\\overline{y}$ & $\\sigma_y^2$ & $r_{xy}$ & $a$ & $\\Delta a$ & $b$ & $\\Delta b$ \\\\ \\hline\n",
      "0.003 & 1.30e-08 & 0.929 & 4.82e-03 & 0.000 & 607.622 & 3.020e+01 & -1.032 & 0.098 \\\\ \\hline\n",
      "\\end{tabular}\n",
      "\n"
     ]
    },
    {
     "data": {
      "text/html": [
       "<div>\n",
       "<style scoped>\n",
       "    .dataframe tbody tr th:only-of-type {\n",
       "        vertical-align: middle;\n",
       "    }\n",
       "\n",
       "    .dataframe tbody tr th {\n",
       "        vertical-align: top;\n",
       "    }\n",
       "\n",
       "    .dataframe thead th {\n",
       "        text-align: right;\n",
       "    }\n",
       "</style>\n",
       "<table border=\"1\" class=\"dataframe\">\n",
       "  <thead>\n",
       "    <tr style=\"text-align: right;\">\n",
       "      <th></th>\n",
       "      <th>$\\overline{x}$</th>\n",
       "      <th>$\\sigma_x^2$</th>\n",
       "      <th>$\\overline{y}$</th>\n",
       "      <th>$\\sigma_y^2$</th>\n",
       "      <th>$r_{xy}$</th>\n",
       "      <th>$a$</th>\n",
       "      <th>$\\Delta a$</th>\n",
       "      <th>$b$</th>\n",
       "      <th>$\\Delta b$</th>\n",
       "    </tr>\n",
       "  </thead>\n",
       "  <tbody>\n",
       "    <tr>\n",
       "      <th>0</th>\n",
       "      <td>0.003228</td>\n",
       "      <td>1.295531e-08</td>\n",
       "      <td>0.929137</td>\n",
       "      <td>0.004819</td>\n",
       "      <td>0.000008</td>\n",
       "      <td>607.621805</td>\n",
       "      <td>30.202646</td>\n",
       "      <td>-1.032386</td>\n",
       "      <td>0.097561</td>\n",
       "    </tr>\n",
       "  </tbody>\n",
       "</table>\n",
       "</div>"
      ],
      "text/plain": [
       "   $\\overline{x}$  $\\sigma_x^2$  $\\overline{y}$  $\\sigma_y^2$  $r_{xy}$  \\\n",
       "0        0.003228  1.295531e-08        0.929137      0.004819  0.000008   \n",
       "\n",
       "          $a$  $\\Delta a$       $b$  $\\Delta b$  \n",
       "0  607.621805   30.202646 -1.032386    0.097561  "
      ]
     },
     "execution_count": 200,
     "metadata": {},
     "output_type": "execute_result"
    }
   ],
   "source": [
    "x = 1/T\n",
    "y = mu\n",
    "\n",
    "mnk_fmt = { '$\\overline{x}$' : \"{:.3f}\",\n",
    "            '$\\sigma_x^2$'   : \"{:.2e}\",\n",
    "            '$\\overline{y}$' : \"{:.3f}\",\n",
    "            '$\\sigma_y^2$'   : \"{:.2e}\",\n",
    "            '$r_{xy}$'       : \"{:.3f}\",\n",
    "            '$a$'            : \"{:.3f}\",\n",
    "            '$\\Delta a$'     : \"{:.3e}\",\n",
    "            '$b$'            : \"{:.3f}\",\n",
    "            '$\\Delta b$'     : \"{:.3f}\" }\n",
    "\n",
    "df, stat = mnk(x, y)\n",
    "latex = df.style.hide(level=0, axis=0).format(mnk_fmt).to_latex(column_format=\"|c\" * 8 + \"|\").replace(\"\\\\\\n\", \"\\\\ \\hline\\n\")\n",
    "print(latex)\n",
    "\n",
    "df"
   ]
  },
  {
   "cell_type": "code",
   "execution_count": 254,
   "id": "089d705f",
   "metadata": {
    "scrolled": true
   },
   "outputs": [
    {
     "data": {
      "text/plain": [
       "607.6218052926794"
      ]
     },
     "execution_count": 254,
     "metadata": {},
     "output_type": "execute_result"
    },
    {
     "data": {
      "image/png": "[encoded data removed]",
      "text/plain": [
       "<Figure size 432x288 with 1 Axes>"
      ]
     },
     "metadata": {
      "needs_background": "light"
     },
     "output_type": "display_data"
    }
   ],
   "source": [
    "x = 1/T\n",
    "y = mu\n",
    "\n",
    "\n",
    "plt.scatter(x, y, marker='^', c='r')\n",
    "coeffs = np.polyfit(x, y, 1)\n",
    "pol = lambda x: coeffs[0] * x + coeffs[1]\n",
    "t = np.linspace(x.min(), x.max(), 100)\n",
    "plt.plot(t, pol(t), alpha=0.3,c='r')\n",
    "\n",
    "plt.ylabel(r\"$\\mu$, К/атм\")\n",
    "plt.xlabel(r\"$1/\\Delta T$, 1/К\")\n",
    "plt.grid(True, linewidth=0.32)\n",
    "plt.savefig(\"Коэффициент от обратной темературы.pdf\")\n",
    "\n",
    "coeffs[0]"
   ]
  },
  {
   "cell_type": "code",
   "execution_count": 255,
   "id": "1c67d9aa",
   "metadata": {
    "scrolled": true
   },
   "outputs": [
    {
     "name": "stdout",
     "output_type": "stream",
     "text": [
      "\\begin{tabular}{|c|c|c|c|c|c|c|c|}\n",
      "$\\overline{x}$ & $\\sigma_x^2$ & $\\overline{y}$ & $\\sigma_y^2$ & $r_{xy}$ & $a$ & $\\Delta a$ & $b$ & $\\Delta b$ \\\\ \\hline\n",
      "0.003 & 1.30e-08 & 0.929 & 4.82e-03 & 0.000 & 607.622 & 3.020e+01 & -1.032 & 0.098 \\\\ \\hline\n",
      "\\end{tabular}\n",
      "\n"
     ]
    },
    {
     "data": {
      "text/html": [
       "<div>\n",
       "<style scoped>\n",
       "    .dataframe tbody tr th:only-of-type {\n",
       "        vertical-align: middle;\n",
       "    }\n",
       "\n",
       "    .dataframe tbody tr th {\n",
       "        vertical-align: top;\n",
       "    }\n",
       "\n",
       "    .dataframe thead th {\n",
       "        text-align: right;\n",
       "    }\n",
       "</style>\n",
       "<table border=\"1\" class=\"dataframe\">\n",
       "  <thead>\n",
       "    <tr style=\"text-align: right;\">\n",
       "      <th></th>\n",
       "      <th>$\\overline{x}$</th>\n",
       "      <th>$\\sigma_x^2$</th>\n",
       "      <th>$\\overline{y}$</th>\n",
       "      <th>$\\sigma_y^2$</th>\n",
       "      <th>$r_{xy}$</th>\n",
       "      <th>$a$</th>\n",
       "      <th>$\\Delta a$</th>\n",
       "      <th>$b$</th>\n",
       "      <th>$\\Delta b$</th>\n",
       "    </tr>\n",
       "  </thead>\n",
       "  <tbody>\n",
       "    <tr>\n",
       "      <th>0</th>\n",
       "      <td>0.003228</td>\n",
       "      <td>1.295531e-08</td>\n",
       "      <td>0.929137</td>\n",
       "      <td>0.004819</td>\n",
       "      <td>0.000008</td>\n",
       "      <td>607.621805</td>\n",
       "      <td>30.202646</td>\n",
       "      <td>-1.032386</td>\n",
       "      <td>0.097561</td>\n",
       "    </tr>\n",
       "  </tbody>\n",
       "</table>\n",
       "</div>"
      ],
      "text/plain": [
       "   $\\overline{x}$  $\\sigma_x^2$  $\\overline{y}$  $\\sigma_y^2$  $r_{xy}$  \\\n",
       "0        0.003228  1.295531e-08        0.929137      0.004819  0.000008   \n",
       "\n",
       "          $a$  $\\Delta a$       $b$  $\\Delta b$  \n",
       "0  607.621805   30.202646 -1.032386    0.097561  "
      ]
     },
     "execution_count": 255,
     "metadata": {},
     "output_type": "execute_result"
    }
   ],
   "source": [
    "df, mk = mnk(x, y)\n",
    "mnk_fmt = { '$\\overline{x}$' : \"{:.3f}\",\n",
    "            '$\\sigma_x^2$'   : \"{:.2e}\",\n",
    "            '$\\overline{y}$' : \"{:.3f}\",\n",
    "            '$\\sigma_y^2$'   : \"{:.2e}\",\n",
    "            '$r_{xy}$'       : \"{:.3f}\",\n",
    "            '$a$'            : \"{:.3f}\",\n",
    "            '$\\Delta a$'     : \"{:.3e}\",\n",
    "            '$b$'            : \"{:.3f}\",\n",
    "            '$\\Delta b$'     : \"{:.3f}\" }\n",
    "\n",
    "latex = df.style.hide(level=0, axis=0).format(mnk_fmt).to_latex(column_format=\"|c\" * 8 + \"|\").replace(\"\\\\\\n\", \"\\\\ \\hline\\n\")\n",
    "print(latex)\n",
    "df"
   ]
  },
  {
   "cell_type": "code",
   "execution_count": 262,
   "id": "600e0f78",
   "metadata": {
    "scrolled": true
   },
   "outputs": [
    {
     "data": {
      "text/plain": [
       "-0.09450021638502429"
      ]
     },
     "execution_count": 262,
     "metadata": {},
     "output_type": "execute_result"
    }
   ],
   "source": [
    "mk[8]/mk[7] * "
   ]
  },
  {
   "cell_type": "code",
   "execution_count": 266,
   "id": "d337e1c9",
   "metadata": {
    "scrolled": true
   },
   "outputs": [
    {
     "data": {
      "text/plain": [
       "1.0104096820955322"
      ]
     },
     "execution_count": 266,
     "metadata": {},
     "output_type": "execute_result"
    }
   ],
   "source": [
    "a = (mk[5] * 40 * 8.314462 / 2 ) * 10**(-5)\n",
    "a"
   ]
  },
  {
   "cell_type": "code",
   "execution_count": 267,
   "id": "35a0c25c",
   "metadata": {
    "scrolled": true
   },
   "outputs": [
    {
     "data": {
      "text/plain": [
       "0.0004129543598722423"
      ]
     },
     "execution_count": 267,
     "metadata": {},
     "output_type": "execute_result"
    }
   ],
   "source": [
    "b = - mk[7] * 40 * 10**(-5)\n",
    "b"
   ]
  },
  {
   "cell_type": "code",
   "execution_count": 269,
   "id": "435e54c6",
   "metadata": {},
   "outputs": [
    {
     "data": {
      "text/plain": [
       "87.194183159998"
      ]
     },
     "execution_count": 269,
     "metadata": {},
     "output_type": "execute_result"
    }
   ],
   "source": [
    "Tkr = (8*a)/(27*8.314462*b)\n",
    "Tkr"
   ]
  },
  {
   "cell_type": "code",
   "execution_count": null,
   "id": "cd475a7e",
   "metadata": {},
   "outputs": [],
   "source": []
  },
  {
   "cell_type": "code",
   "execution_count": 32,
   "id": "b4daee3e",
   "metadata": {},
   "outputs": [
    {
     "name": "stdout",
     "output_type": "stream",
     "text": [
      "\\begin{tabular}{|c|c|c|c|c|c|c|c|}\n",
      "$\\overline{x}$ & $\\sigma_x^2$ & $\\overline{y}$ & $\\sigma_y^2$ & $r_{xy}$ & $a$ & $\\Delta a$ & $b$ & $\\Delta b$ \\\\ \\hline\n",
      "0.003228 & 0.000000 & 0.929137 & 0.004819 & 0.000008 & 607.621805 & 30.202646 & -1.032386 & 0.097561 \\\\ \\hline\n",
      "\\end{tabular}\n",
      "\n"
     ]
    }
   ],
   "source": [
    "latex = df.style.hide(level=0, axis=0).to_latex(column_format=\"|c\" * 8 + \"|\").replace(\"\\\\\\n\", \"\\\\ \\hline\\n\")\n",
    "print(latex)"
   ]
  },
  {
   "cell_type": "code",
   "execution_count": null,
   "id": "9b42ce8b",
   "metadata": {},
   "outputs": [],
   "source": []
  },
  {
   "cell_type": "code",
   "execution_count": 134,
   "id": "be2089ec",
   "metadata": {},
   "outputs": [],
   "source": [
    "mnk_fmt = { '$\\overline{x}$' : \"{:.3f}\",\n",
    "            '$\\sigma_x^2$'   : \"{:.3f}\",\n",
    "            '$\\overline{y}$' : \"{:.3f}\",\n",
    "            '$\\sigma_y^2$'   : \"{:.3f}\",\n",
    "            '$r_{xy}$'       : \"{:.3f}\",\n",
    "            '$a$'            : \"{:.3f}\",\n",
    "            '$\\Delta a$'     : \"{:.3f}\",\n",
    "            '$b$'            : \"{:.3f}\",\n",
    "            '$\\Delta b$'     : \"{:.3f}\" }\n",
    "\n",
    "def mnk(x, y):\n",
    "    sx = (x**2).mean() - (x.mean())**2\n",
    "    sy = (y**2).mean() - (y.mean())**2\n",
    "    rxy = (y*x).mean() - (y.mean() * x.mean())\n",
    "    a = rxy / sx\n",
    "    da = (1/(len(x) - 2) * (sy/sx - a**2))**(0.5)\n",
    "    b = y.mean() - a * x.mean()\n",
    "    db = da*(sx + (x.mean())**2)**(1/2)\n",
    "    dat = pd.DataFrame({\n",
    "        '$\\overline{x}$' : [x.mean()],\n",
    "        '$\\sigma_x^2$'   : [sx],\n",
    "        '$\\overline{y}$' : [y.mean()],\n",
    "        '$\\sigma_y^2$'   : [sy],\n",
    "        '$r_{xy}$'       : [rxy],\n",
    "        '$a$'            : [a],\n",
    "        '$\\Delta a$'     : [da],\n",
    "        '$b$'            : [b],\n",
    "        '$\\Delta b$'     : [db],\n",
    "    })\n",
    "    return dat, [x.mean(), sx, y.mean(), sy, rxy, a, da, b, db]\n"
   ]
  },
  {
   "cell_type": "code",
   "execution_count": 127,
   "id": "5408c314",
   "metadata": {
    "scrolled": true
   },
   "outputs": [
    {
     "ename": "AttributeError",
     "evalue": "'tuple' object has no attribute 'style'",
     "output_type": "error",
     "traceback": [
      "\u001b[1;31m---------------------------------------------------------------------------\u001b[0m",
      "\u001b[1;31mAttributeError\u001b[0m                            Traceback (most recent call last)",
      "Input \u001b[1;32mIn [127]\u001b[0m, in \u001b[0;36m<module>\u001b[1;34m\u001b[0m\n\u001b[1;32m----> 1\u001b[0m latex \u001b[38;5;241m=\u001b[39m \u001b[43mmnk\u001b[49m\u001b[43m(\u001b[49m\u001b[43mx\u001b[49m\u001b[43m,\u001b[49m\u001b[43my\u001b[49m\u001b[43m)\u001b[49m\u001b[38;5;241;43m.\u001b[39;49m\u001b[43mstyle\u001b[49m\u001b[38;5;241m.\u001b[39mhide(level\u001b[38;5;241m=\u001b[39m\u001b[38;5;241m0\u001b[39m, axis\u001b[38;5;241m=\u001b[39m\u001b[38;5;241m0\u001b[39m)\u001b[38;5;241m.\u001b[39mto_latex(column_format\u001b[38;5;241m=\u001b[39m\u001b[38;5;124m\"\u001b[39m\u001b[38;5;124m|c\u001b[39m\u001b[38;5;124m\"\u001b[39m \u001b[38;5;241m*\u001b[39m \u001b[38;5;241m8\u001b[39m \u001b[38;5;241m+\u001b[39m \u001b[38;5;124m\"\u001b[39m\u001b[38;5;124m|\u001b[39m\u001b[38;5;124m\"\u001b[39m)\u001b[38;5;241m.\u001b[39mreplace(\u001b[38;5;124m\"\u001b[39m\u001b[38;5;130;01m\\\\\u001b[39;00m\u001b[38;5;130;01m\\n\u001b[39;00m\u001b[38;5;124m\"\u001b[39m, \u001b[38;5;124m\"\u001b[39m\u001b[38;5;130;01m\\\\\u001b[39;00m\u001b[38;5;124m \u001b[39m\u001b[38;5;124m\\\u001b[39m\u001b[38;5;124mhline\u001b[39m\u001b[38;5;130;01m\\n\u001b[39;00m\u001b[38;5;124m\"\u001b[39m)\n\u001b[0;32m      2\u001b[0m \u001b[38;5;28mprint\u001b[39m(latex)\n",
      "\u001b[1;31mAttributeError\u001b[0m: 'tuple' object has no attribute 'style'"
     ]
    }
   ],
   "source": [
    "\n",
    "latex = mnk(x,y).style.hide(level=0, axis=0).to_latex(column_format=\"|c\" * 8 + \"|\").replace(\"\\\\\\n\", \"\\\\ \\hline\\n\")\n",
    "print(latex)\n"
   ]
  },
  {
   "cell_type": "code",
   "execution_count": 38,
   "id": "b8588a1b",
   "metadata": {},
   "outputs": [
    {
     "data": {
      "image/png": "[encoded data removed]",
      "text/plain": [
       "<Figure size 432x288 with 1 Axes>"
      ]
     },
     "metadata": {
      "needs_background": "light"
     },
     "output_type": "display_data"
    }
   ],
   "source": [
    "mu = np.array([\n",
    "linear(data['p20'], data['u20']/trans[0], '20', '*'),\n",
    "linear(data['p30'], data['u30']/trans[1], '30', 'o'),\n",
    "linear(data['p40'], data['u40']/trans[2], '40', '^'),\n",
    "linear(data['p45'], data['u45']/trans[3], '45', 'p'),\n",
    "linear(data['p50'], data['u50']/trans[4], '50', 'd'),\n",
    "])"
   ]
  },
  {
   "cell_type": "code",
   "execution_count": null,
   "id": "630bb6e7",
   "metadata": {},
   "outputs": [],
   "source": []
  },
  {
   "cell_type": "code",
   "execution_count": null,
   "id": "596b4ec6",
   "metadata": {},
   "outputs": [],
   "source": []
  },
  {
   "cell_type": "code",
   "execution_count": null,
   "id": "61f84ba0",
   "metadata": {},
   "outputs": [],
   "source": []
  }
 ],
 "metadata": {
  "kernelspec": {
   "display_name": "Python 3 (ipykernel)",
   "language": "python",
   "name": "python3"
  },
  "language_info": {
   "codemirror_mode": {
    "name": "ipython",
    "version": 3
   },
   "file_extension": ".py",
   "mimetype": "text/x-python",
   "name": "python",
   "nbconvert_exporter": "python",
   "pygments_lexer": "ipython3",
   "version": "3.10.2"
  }
 },
 "nbformat": 4,
 "nbformat_minor": 5
}
