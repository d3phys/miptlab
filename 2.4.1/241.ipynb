{
 "cells": [
  {
   "cell_type": "code",
   "execution_count": 213,
   "id": "23b6c1dd",
   "metadata": {},
   "outputs": [],
   "source": [
    "import numpy as np\n",
    "import pandas as pd\n",
    "import matplotlib.pyplot as plt\n",
    "import scipy as sp\n",
    "import scipy.optimize as op\n",
    "from scipy.interpolate import UnivariateSpline\n",
    "import copy "
   ]
  },
  {
   "cell_type": "code",
   "execution_count": 214,
   "id": "d764ddb6",
   "metadata": {},
   "outputs": [],
   "source": [
    "data = pd.read_excel('241.xlsx')\n",
    "data.columns = pd.MultiIndex.from_tuples([\n",
    "    (\"Up\", \"T\"),\n",
    "    (\"Up\", \"h\"),\n",
    "    (\"Up\", \"H\"),\n",
    "    (\"Up\", \"dh\"),\n",
    "    (\"Down\", \"T\"),\n",
    "    (\"Down\", \"h\"),\n",
    "    (\"Down\", \"H\"),\n",
    "    (\"Down\", \"dh\"),\n",
    "])\n",
    "\n",
    "data[('Up', 'dh')]   = 10 * data[('Up', 'dh')]\n",
    "data[('Down', 'dh')] = 10 * data[('Down', 'dh')]"
   ]
  },
  {
   "cell_type": "code",
   "execution_count": 215,
   "id": "b8afe6dc",
   "metadata": {
    "scrolled": true
   },
   "outputs": [
    {
     "data": {
      "text/html": [
       "<div>\n",
       "<style scoped>\n",
       "    .dataframe tbody tr th:only-of-type {\n",
       "        vertical-align: middle;\n",
       "    }\n",
       "\n",
       "    .dataframe tbody tr th {\n",
       "        vertical-align: top;\n",
       "    }\n",
       "\n",
       "    .dataframe thead tr th {\n",
       "        text-align: left;\n",
       "    }\n",
       "</style>\n",
       "<table border=\"1\" class=\"dataframe\">\n",
       "  <thead>\n",
       "    <tr>\n",
       "      <th></th>\n",
       "      <th colspan=\"4\" halign=\"left\">Up</th>\n",
       "      <th colspan=\"4\" halign=\"left\">Down</th>\n",
       "    </tr>\n",
       "    <tr>\n",
       "      <th></th>\n",
       "      <th>T</th>\n",
       "      <th>h</th>\n",
       "      <th>H</th>\n",
       "      <th>dh</th>\n",
       "      <th>T</th>\n",
       "      <th>h</th>\n",
       "      <th>H</th>\n",
       "      <th>dh</th>\n",
       "    </tr>\n",
       "  </thead>\n",
       "  <tbody>\n",
       "    <tr>\n",
       "      <th>0</th>\n",
       "      <td>22</td>\n",
       "      <td>6.14</td>\n",
       "      <td>7.57</td>\n",
       "      <td>14.3</td>\n",
       "      <td>50.00</td>\n",
       "      <td>2.80</td>\n",
       "      <td>11.57</td>\n",
       "      <td>87.7</td>\n",
       "    </tr>\n",
       "    <tr>\n",
       "      <th>1</th>\n",
       "      <td>24</td>\n",
       "      <td>6.09</td>\n",
       "      <td>7.98</td>\n",
       "      <td>18.9</td>\n",
       "      <td>47.70</td>\n",
       "      <td>3.19</td>\n",
       "      <td>11.12</td>\n",
       "      <td>79.3</td>\n",
       "    </tr>\n",
       "    <tr>\n",
       "      <th>2</th>\n",
       "      <td>26</td>\n",
       "      <td>5.96</td>\n",
       "      <td>8.13</td>\n",
       "      <td>21.7</td>\n",
       "      <td>46.00</td>\n",
       "      <td>3.54</td>\n",
       "      <td>10.75</td>\n",
       "      <td>72.1</td>\n",
       "    </tr>\n",
       "    <tr>\n",
       "      <th>3</th>\n",
       "      <td>28</td>\n",
       "      <td>5.80</td>\n",
       "      <td>8.31</td>\n",
       "      <td>25.1</td>\n",
       "      <td>43.91</td>\n",
       "      <td>3.86</td>\n",
       "      <td>10.39</td>\n",
       "      <td>65.3</td>\n",
       "    </tr>\n",
       "    <tr>\n",
       "      <th>4</th>\n",
       "      <td>30</td>\n",
       "      <td>5.66</td>\n",
       "      <td>8.47</td>\n",
       "      <td>28.1</td>\n",
       "      <td>42.00</td>\n",
       "      <td>4.16</td>\n",
       "      <td>10.06</td>\n",
       "      <td>59.0</td>\n",
       "    </tr>\n",
       "  </tbody>\n",
       "</table>\n",
       "</div>"
      ],
      "text/plain": [
       "   Up                     Down                   \n",
       "    T     h     H    dh      T     h      H    dh\n",
       "0  22  6.14  7.57  14.3  50.00  2.80  11.57  87.7\n",
       "1  24  6.09  7.98  18.9  47.70  3.19  11.12  79.3\n",
       "2  26  5.96  8.13  21.7  46.00  3.54  10.75  72.1\n",
       "3  28  5.80  8.31  25.1  43.91  3.86  10.39  65.3\n",
       "4  30  5.66  8.47  28.1  42.00  4.16  10.06  59.0"
      ]
     },
     "execution_count": 215,
     "metadata": {},
     "output_type": "execute_result"
    }
   ],
   "source": [
    "data.head()"
   ]
  },
  {
   "cell_type": "code",
   "execution_count": 216,
   "id": "be650772",
   "metadata": {},
   "outputs": [],
   "source": [
    "class dataset:\n",
    "    def __init__(self, data, sigma):\n",
    "        self.data  = data\n",
    "        self.sigma = sigma"
   ]
  },
  {
   "cell_type": "code",
   "execution_count": 217,
   "id": "4b7a1051",
   "metadata": {},
   "outputs": [],
   "source": [
    "class relation:    \n",
    "    def __init__(self, x, y, ignore = ()):\n",
    "        self.x = x\n",
    "        self.y = y\n",
    "        self.ignore = ignore\n",
    "        \n",
    "    def ignored(self):\n",
    "        return [np.take(self.x.data, self.ignore), np.take(self.y.data, self.ignore)]\n",
    "    \n",
    "    def clean(self):\n",
    "        return [np.delete(self.x.data, self.ignore), np.delete(self.y.data, self.ignore)]\n",
    "        "
   ]
  },
  {
   "cell_type": "code",
   "execution_count": 218,
   "id": "f55ef2bb",
   "metadata": {
    "scrolled": false
   },
   "outputs": [],
   "source": [
    "read = lambda name: np.array(data[name].dropna(), dtype=np.double)\n",
    "Tup = read(('Up', 'T'))\n",
    "\n",
    "up = relation(x = dataset(read(('Up', 'T')),         np.full(Tup.size, 0.5,  dtype=np.double)),    \\\n",
    "              y = dataset(read(('Up', 'dh')),   np.full(Tup.size, 0.02, dtype=np.double)))\n",
    "\n",
    "dw = relation(x = dataset(np.flip(read(('Down', 'T'))),       np.full(Tup.size, 0.5,  dtype=np.double)),    \\\n",
    "              y = dataset(np.flip(read(('Down', 'dh'))), np.full(Tup.size, 0.02, dtype=np.double)))\n"
   ]
  },
  {
   "cell_type": "markdown",
   "id": "18496362",
   "metadata": {},
   "source": [
    "## Графики P(T)"
   ]
  },
  {
   "cell_type": "code",
   "execution_count": 219,
   "id": "ceb3c4ed",
   "metadata": {
    "scrolled": true
   },
   "outputs": [
    {
     "name": "stdout",
     "output_type": "stream",
     "text": [
      "None\n"
     ]
    },
    {
     "data": {
      "text/html": [
       "<div>\n",
       "<style scoped>\n",
       "    .dataframe tbody tr th:only-of-type {\n",
       "        vertical-align: middle;\n",
       "    }\n",
       "\n",
       "    .dataframe tbody tr th {\n",
       "        vertical-align: top;\n",
       "    }\n",
       "\n",
       "    .dataframe thead tr th {\n",
       "        text-align: left;\n",
       "    }\n",
       "</style>\n",
       "<table border=\"1\" class=\"dataframe\">\n",
       "  <thead>\n",
       "    <tr>\n",
       "      <th></th>\n",
       "      <th colspan=\"4\" halign=\"left\">Up</th>\n",
       "      <th colspan=\"4\" halign=\"left\">Down</th>\n",
       "    </tr>\n",
       "    <tr>\n",
       "      <th></th>\n",
       "      <th>T</th>\n",
       "      <th>h</th>\n",
       "      <th>H</th>\n",
       "      <th>dh</th>\n",
       "      <th>T</th>\n",
       "      <th>h</th>\n",
       "      <th>H</th>\n",
       "      <th>dh</th>\n",
       "    </tr>\n",
       "  </thead>\n",
       "  <tbody>\n",
       "    <tr>\n",
       "      <th>0</th>\n",
       "      <td>22</td>\n",
       "      <td>6.14</td>\n",
       "      <td>7.57</td>\n",
       "      <td>14.3</td>\n",
       "      <td>50.00</td>\n",
       "      <td>2.80</td>\n",
       "      <td>11.57</td>\n",
       "      <td>87.7</td>\n",
       "    </tr>\n",
       "    <tr>\n",
       "      <th>1</th>\n",
       "      <td>24</td>\n",
       "      <td>6.09</td>\n",
       "      <td>7.98</td>\n",
       "      <td>18.9</td>\n",
       "      <td>47.70</td>\n",
       "      <td>3.19</td>\n",
       "      <td>11.12</td>\n",
       "      <td>79.3</td>\n",
       "    </tr>\n",
       "    <tr>\n",
       "      <th>2</th>\n",
       "      <td>26</td>\n",
       "      <td>5.96</td>\n",
       "      <td>8.13</td>\n",
       "      <td>21.7</td>\n",
       "      <td>46.00</td>\n",
       "      <td>3.54</td>\n",
       "      <td>10.75</td>\n",
       "      <td>72.1</td>\n",
       "    </tr>\n",
       "    <tr>\n",
       "      <th>3</th>\n",
       "      <td>28</td>\n",
       "      <td>5.80</td>\n",
       "      <td>8.31</td>\n",
       "      <td>25.1</td>\n",
       "      <td>43.91</td>\n",
       "      <td>3.86</td>\n",
       "      <td>10.39</td>\n",
       "      <td>65.3</td>\n",
       "    </tr>\n",
       "    <tr>\n",
       "      <th>4</th>\n",
       "      <td>30</td>\n",
       "      <td>5.66</td>\n",
       "      <td>8.47</td>\n",
       "      <td>28.1</td>\n",
       "      <td>42.00</td>\n",
       "      <td>4.16</td>\n",
       "      <td>10.06</td>\n",
       "      <td>59.0</td>\n",
       "    </tr>\n",
       "    <tr>\n",
       "      <th>5</th>\n",
       "      <td>32</td>\n",
       "      <td>5.49</td>\n",
       "      <td>8.65</td>\n",
       "      <td>31.6</td>\n",
       "      <td>40.00</td>\n",
       "      <td>4.46</td>\n",
       "      <td>9.74</td>\n",
       "      <td>52.8</td>\n",
       "    </tr>\n",
       "    <tr>\n",
       "      <th>6</th>\n",
       "      <td>34</td>\n",
       "      <td>5.27</td>\n",
       "      <td>8.88</td>\n",
       "      <td>36.1</td>\n",
       "      <td>38.00</td>\n",
       "      <td>4.74</td>\n",
       "      <td>9.46</td>\n",
       "      <td>47.2</td>\n",
       "    </tr>\n",
       "    <tr>\n",
       "      <th>7</th>\n",
       "      <td>36</td>\n",
       "      <td>5.05</td>\n",
       "      <td>9.14</td>\n",
       "      <td>40.9</td>\n",
       "      <td>36.00</td>\n",
       "      <td>4.96</td>\n",
       "      <td>9.23</td>\n",
       "      <td>42.7</td>\n",
       "    </tr>\n",
       "    <tr>\n",
       "      <th>8</th>\n",
       "      <td>38</td>\n",
       "      <td>4.82</td>\n",
       "      <td>9.40</td>\n",
       "      <td>45.8</td>\n",
       "      <td>34.00</td>\n",
       "      <td>5.17</td>\n",
       "      <td>8.97</td>\n",
       "      <td>38.0</td>\n",
       "    </tr>\n",
       "    <tr>\n",
       "      <th>9</th>\n",
       "      <td>40</td>\n",
       "      <td>4.56</td>\n",
       "      <td>9.68</td>\n",
       "      <td>51.2</td>\n",
       "      <td>32.00</td>\n",
       "      <td>5.38</td>\n",
       "      <td>8.79</td>\n",
       "      <td>34.1</td>\n",
       "    </tr>\n",
       "    <tr>\n",
       "      <th>10</th>\n",
       "      <td>42</td>\n",
       "      <td>4.27</td>\n",
       "      <td>10.00</td>\n",
       "      <td>57.3</td>\n",
       "      <td>30.00</td>\n",
       "      <td>5.56</td>\n",
       "      <td>8.56</td>\n",
       "      <td>30.0</td>\n",
       "    </tr>\n",
       "    <tr>\n",
       "      <th>11</th>\n",
       "      <td>44</td>\n",
       "      <td>3.94</td>\n",
       "      <td>10.33</td>\n",
       "      <td>63.9</td>\n",
       "      <td>28.00</td>\n",
       "      <td>5.72</td>\n",
       "      <td>8.39</td>\n",
       "      <td>26.7</td>\n",
       "    </tr>\n",
       "    <tr>\n",
       "      <th>12</th>\n",
       "      <td>46</td>\n",
       "      <td>3.59</td>\n",
       "      <td>10.68</td>\n",
       "      <td>70.9</td>\n",
       "      <td>26.00</td>\n",
       "      <td>5.86</td>\n",
       "      <td>8.23</td>\n",
       "      <td>23.7</td>\n",
       "    </tr>\n",
       "    <tr>\n",
       "      <th>13</th>\n",
       "      <td>48</td>\n",
       "      <td>3.22</td>\n",
       "      <td>11.10</td>\n",
       "      <td>78.8</td>\n",
       "      <td>24.00</td>\n",
       "      <td>5.96</td>\n",
       "      <td>8.12</td>\n",
       "      <td>21.6</td>\n",
       "    </tr>\n",
       "    <tr>\n",
       "      <th>14</th>\n",
       "      <td>50</td>\n",
       "      <td>2.80</td>\n",
       "      <td>11.57</td>\n",
       "      <td>87.7</td>\n",
       "      <td>22.00</td>\n",
       "      <td>6.09</td>\n",
       "      <td>7.93</td>\n",
       "      <td>18.4</td>\n",
       "    </tr>\n",
       "  </tbody>\n",
       "</table>\n",
       "</div>"
      ],
      "text/plain": [
       "    Up                      Down                   \n",
       "     T     h      H    dh      T     h      H    dh\n",
       "0   22  6.14   7.57  14.3  50.00  2.80  11.57  87.7\n",
       "1   24  6.09   7.98  18.9  47.70  3.19  11.12  79.3\n",
       "2   26  5.96   8.13  21.7  46.00  3.54  10.75  72.1\n",
       "3   28  5.80   8.31  25.1  43.91  3.86  10.39  65.3\n",
       "4   30  5.66   8.47  28.1  42.00  4.16  10.06  59.0\n",
       "5   32  5.49   8.65  31.6  40.00  4.46   9.74  52.8\n",
       "6   34  5.27   8.88  36.1  38.00  4.74   9.46  47.2\n",
       "7   36  5.05   9.14  40.9  36.00  4.96   9.23  42.7\n",
       "8   38  4.82   9.40  45.8  34.00  5.17   8.97  38.0\n",
       "9   40  4.56   9.68  51.2  32.00  5.38   8.79  34.1\n",
       "10  42  4.27  10.00  57.3  30.00  5.56   8.56  30.0\n",
       "11  44  3.94  10.33  63.9  28.00  5.72   8.39  26.7\n",
       "12  46  3.59  10.68  70.9  26.00  5.86   8.23  23.7\n",
       "13  48  3.22  11.10  78.8  24.00  5.96   8.12  21.6\n",
       "14  50  2.80  11.57  87.7  22.00  6.09   7.93  18.4"
      ]
     },
     "execution_count": 219,
     "metadata": {},
     "output_type": "execute_result"
    }
   ],
   "source": [
    "names = {\n",
    "            'T' : r\"$T, \\footnotesize ^{\\circ} C$\",\n",
    "            'H' : r\"$H, \\text{\\footnotesize cм}$\",\n",
    "            'h' : r\"$h, \\text{\\footnotesize cм}$\",\n",
    "            'dh' : r\"$P, \\text{\\footnotesize мм рт. ст.}$\",\n",
    "            'Up' : 'Нагрев',\n",
    "            'Down' : 'Охлаждение',\n",
    "        }\n",
    "\n",
    "data_fmt = { \n",
    "    (names['Up'], names['T']) : \"{:.1f}\",\n",
    "    (names['Up'], names['H']) : \"{:.2f}\",\n",
    "    (names['Up'], names['h']) : \"{:.2f}\",\n",
    "    (names['Up'], names['dh']) : \"{:.2f}\",\n",
    "    (names['Down'], names['T']) : \"{:.1f}\",\n",
    "    (names['Down'], names['H']) : \"{:.2f}\",\n",
    "    (names['Down'], names['h']) : \"{:.2f}\",\n",
    "    (names['Down'], names['dh']) : \"{:.2f}\",\n",
    "}\n",
    "\n",
    "latex = data[2:].rename(\n",
    "        columns=(names)\n",
    "    ).style.hide(level=0, axis=0).format(data_fmt).to_latex(\n",
    "        buf     = 'Данные.tex',\n",
    "        label   = 'tab:data',\n",
    "        caption = 'Данные',\n",
    "        column_format=\"c\" * 8 ,\n",
    "        position_float = 'centering',\n",
    "        hrules=True,\n",
    "        multicol_align = 'c',\n",
    "    )\n",
    "\n",
    "\n",
    "\n",
    "\n",
    "print(latex)\n",
    "data"
   ]
  },
  {
   "cell_type": "code",
   "execution_count": 220,
   "id": "3e14d95b",
   "metadata": {
    "scrolled": false
   },
   "outputs": [
    {
     "data": {
      "image/png": "[encoded data removed]",
      "text/plain": [
       "<Figure size 432x288 with 1 Axes>"
      ]
     },
     "metadata": {
      "needs_background": "light"
     },
     "output_type": "display_data"
    }
   ],
   "source": [
    "plt.ylabel(r\"$P$, мм рт.ст.\")\n",
    "plt.xlabel(r\"$T$, $^{\\degree}C$\")\n",
    "\n",
    "plt.errorbar(up.x.data, up.y.data, yerr=up.y.sigma, xerr=up.x.sigma, fmt='.', label='Нагрев',     c='orange') \n",
    "plt.errorbar(dw.x.data, dw.y.data, yerr=dw.y.sigma, xerr=dw.x.sigma, fmt='.', label='Охлаждение', c='green') \n",
    "\n",
    "\n",
    "t   = np.linspace(22, 50, 100)\n",
    "\n",
    "spl = UnivariateSpline(up.x.data, up.y.data, s=10)\n",
    "plt.plot(t, spl(t), alpha=0.4, c='orange')\n",
    "\n",
    "spl = UnivariateSpline(dw.x.data, dw.y.data)\n",
    "plt.plot(t, spl(t), alpha=0.4, c='green')\n",
    "\n",
    "plt.legend()\n",
    "plt.savefig(\"P(T).pdf\")"
   ]
  },
  {
   "cell_type": "markdown",
   "id": "57a3badc",
   "metadata": {},
   "source": [
    "## Способ P(T)\n"
   ]
  },
  {
   "cell_type": "code",
   "execution_count": 221,
   "id": "27481b5c",
   "metadata": {},
   "outputs": [],
   "source": [
    "class series:\n",
    "    p = 0\n",
    "    T = 0\n",
    "    x = 0\n",
    "    y = 0\n",
    "    dpdT = 0\n",
    "    ignore = 0"
   ]
  },
  {
   "cell_type": "code",
   "execution_count": 222,
   "id": "2f1ef62a",
   "metadata": {
    "scrolled": false
   },
   "outputs": [],
   "source": [
    "up = series()\n",
    "up.p = np.array(data[('Up', 'dh')], dtype=np.double)\n",
    "up.T = np.array(data[('Up', 'T')], dtype=np.double) + 273.15\n",
    "\n",
    "\n",
    "up.dpdT = (np.delete(np.roll(up.p, -1), up.p.size - 1) - np.delete(up.p, up.p.size - 1)) \\\n",
    "        / (np.delete(np.roll(up.T, -1), up.T.size - 1) - np.delete(up.T, up.T.size - 1)) \n",
    "\n",
    "up.x = up.p[:up.p.size - 1]/(up.T[:up.T.size - 1])**2\n",
    "up.y = up.dpdT\n",
    "\n",
    "\n",
    "dw = series()\n",
    "dw.p = np.array(data[('Down', 'dh')], dtype=np.double)\n",
    "dw.T = np.array(data[('Down', 'T')], dtype=np.double) + 273.15\n",
    "\n",
    "\n",
    "dw.dpdT = (np.delete(np.roll(dw.p, -1), dw.p.size - 1) - np.delete(dw.p, dw.p.size - 1)) \\\n",
    "        / (np.delete(np.roll(dw.T, -1), dw.T.size - 1) - np.delete(dw.T, dw.T.size - 1)) \n",
    "\n",
    "dw.x = dw.p[:dw.p.size - 1]/(dw.T[:dw.T.size - 1])**2\n",
    "dw.y = dw.dpdT\n",
    "\n",
    "out = pd.DataFrame({'dPdTup' : up.y, 'PTup' : up.x, 'dPdTdw' : dw.y, 'PTdw' : dw.x})\n",
    "\n",
    "out.columns = pd.MultiIndex.from_tuples([\n",
    "    (\"Up\", \"dPdT\"),\n",
    "    (\"Up\", \"PT\"),\n",
    "    (\"Down\", \"dPdT\"),\n",
    "    (\"Down\", \"PT\"),\n",
    "])\n",
    "\n",
    "names = {\n",
    "            'dPdT' : r\"$\\frac{dP}{dT}$\",\n",
    "            'PT' : r\"$\\frac{P}{T^2}$\",\n",
    "            'Up' : 'Нагрев',\n",
    "            'Down' : 'Охлаждение',\n",
    "        }\n",
    "\n",
    "out_fmt = { \n",
    "    (names['Up'], names['dPdT']) : \"{:.3f}\",\n",
    "    (names['Up'], names['PT']) : \"{:.5f}\",\n",
    "    (names['Down'], names['dPdT']) : \"{:.3f}\",\n",
    "    (names['Down'], names['PT']) : \"{:.5f}\",\n",
    "} \n",
    "\n",
    "latex = out.rename(\n",
    "        columns=(names)\n",
    "    ).style.hide(level=0, axis=0).format(out_fmt).to_latex(\n",
    "        buf     = 'Линеаризация2.tex',\n",
    "        label   = 'tab:linear2',\n",
    "        caption = r'Линеаризация  $\\frac{dP}{dT}(\\frac{P}{T^2})$',\n",
    "        column_format=\"c\" * 4 ,\n",
    "        position_float = 'centering',\n",
    "        hrules=True,\n",
    "        multicol_align = 'c',\n",
    "        environment = r'subtable',\n",
    "        #position_float = '{0.48\\textwidth}'\n",
    "    )\n",
    "\n",
    "a_file = open(\"Линеаризация2.tex\", \"r\")\n",
    "list_of_lines = a_file.readlines()\n",
    "list_of_lines[0] = r'\\begin{subtable}{0.48\\textwidth}'\n",
    "\n",
    "a_file = open(\"Линеаризация2.tex\", \"w\")\n",
    "a_file.writelines(list_of_lines)\n",
    "a_file.close()\n"
   ]
  },
  {
   "cell_type": "code",
   "execution_count": 223,
   "id": "13bf8fe6",
   "metadata": {},
   "outputs": [],
   "source": [
    "up.ignore = (0)\n",
    "dw.ignore = ()"
   ]
  },
  {
   "cell_type": "code",
   "execution_count": 224,
   "id": "bc156e03",
   "metadata": {
    "scrolled": false
   },
   "outputs": [
    {
     "data": {
      "image/png": "[encoded data removed]",
      "text/plain": [
       "<Figure size 432x288 with 1 Axes>"
      ]
     },
     "metadata": {
      "needs_background": "light"
     },
     "output_type": "display_data"
    }
   ],
   "source": [
    "plt.scatter(up.x, up.y, label='Нагрев', marker='.', c='orange')\n",
    "plt.scatter(np.take(up.x, up.ignore), np.take(up.y, up.ignore), s=70, marker='x', c='r')\n",
    "\n",
    "plt.scatter(dw.x, dw.y, label='Охлаждение', marker='.', c='blue')\n",
    "plt.scatter(np.take(dw.x, dw.ignore), np.take(dw.y, dw.ignore), s=70, marker='x', c='r')\n",
    "\n",
    "\n",
    "p = np.polyfit(np.delete(up.x, ignore), np.delete(up.y, up.ignore), 1)\n",
    "pol = lambda x: p[0]*x + p[1]\n",
    "t = np.linspace(np.delete(up.x, up.ignore).min(), np.delete(up.x, up.ignore).max(), 100)\n",
    "plt.plot(t, pol(t), c='orange', alpha=0.4)\n",
    "\n",
    "p = np.polyfit(np.delete(dw.x, dw.ignore), np.delete(dw.y, dw.ignore), 1)\n",
    "pol = lambda x: p[0]*x + p[1]\n",
    "t = np.linspace(np.delete(dw.x, dw.ignore).min(), np.delete(dw.x, dw.ignore).max(), 100)\n",
    "plt.plot(t, pol(t), c='blue', alpha=0.4)\n",
    "\n",
    "\n",
    "plt.xlabel(r\"$P/T^2$, мм рт.ст. / $K^2$\")\n",
    "plt.ylabel(r\"$dP/dT$, $мм рт. ст / K$\")\n",
    "plt.legend()\n",
    "plt.savefig('dPdT.pdf')"
   ]
  },
  {
   "cell_type": "code",
   "execution_count": 225,
   "id": "2092bf18",
   "metadata": {},
   "outputs": [],
   "source": [
    "mnk_fmt = {\n",
    "        '$\\overline{x}$' : \"{:.2e}\",\n",
    "        '$\\sigma_x^2$'   : \"{:.2e}\",\n",
    "        '$\\overline{y}$' : \"{:.2f}\",\n",
    "        '$\\sigma_y^2$'   : \"{:.2e}\",\n",
    "        '$r_{xy}$'       : \"{:.2e}\",\n",
    "        '$a$'            : \"{:.2f}\",\n",
    "        '$\\Delta a$'     : \"{:.2f}\",\n",
    "        '$b$'            : \"{:.2f}\",\n",
    "        '$\\Delta b$'     : \"{:.2f}\",\n",
    "}"
   ]
  },
  {
   "cell_type": "code",
   "execution_count": 228,
   "id": "8507aeac",
   "metadata": {
    "scrolled": false
   },
   "outputs": [
    {
     "name": "stdout",
     "output_type": "stream",
     "text": [
      "\\begin{tabular}{rrrrrrrrr}\n",
      "$\\overline{x}$ & $\\sigma_x^2$ & $\\overline{y}$ & $\\sigma_y^2$ & $r_{xy}$ & $a$ & $\\Delta a$ & $b$ & $\\Delta b$ \\\\\n",
      "4.51e-04 & 2.94e-08 & 2.65 & 8.54e-01 & 1.57e-04 & 5342.85 & 211.66 & 0.24 & 0.10 \\\\\n",
      "\\end{tabular}\n",
      "\n"
     ]
    },
    {
     "data": {
      "text/html": [
       "<div>\n",
       "<style scoped>\n",
       "    .dataframe tbody tr th:only-of-type {\n",
       "        vertical-align: middle;\n",
       "    }\n",
       "\n",
       "    .dataframe tbody tr th {\n",
       "        vertical-align: top;\n",
       "    }\n",
       "\n",
       "    .dataframe thead th {\n",
       "        text-align: right;\n",
       "    }\n",
       "</style>\n",
       "<table border=\"1\" class=\"dataframe\">\n",
       "  <thead>\n",
       "    <tr style=\"text-align: right;\">\n",
       "      <th></th>\n",
       "      <th>$\\overline{x}$</th>\n",
       "      <th>$\\sigma_x^2$</th>\n",
       "      <th>$\\overline{y}$</th>\n",
       "      <th>$\\sigma_y^2$</th>\n",
       "      <th>$r_{xy}$</th>\n",
       "      <th>$a$</th>\n",
       "      <th>$\\Delta a$</th>\n",
       "      <th>$b$</th>\n",
       "      <th>$\\Delta b$</th>\n",
       "    </tr>\n",
       "  </thead>\n",
       "  <tbody>\n",
       "    <tr>\n",
       "      <th>0</th>\n",
       "      <td>0.000451</td>\n",
       "      <td>2.939645e-08</td>\n",
       "      <td>2.646154</td>\n",
       "      <td>0.853639</td>\n",
       "      <td>0.000157</td>\n",
       "      <td>5342.852239</td>\n",
       "      <td>211.655058</td>\n",
       "      <td>0.23919</td>\n",
       "      <td>0.102023</td>\n",
       "    </tr>\n",
       "  </tbody>\n",
       "</table>\n",
       "</div>"
      ],
      "text/plain": [
       "   $\\overline{x}$  $\\sigma_x^2$  $\\overline{y}$  $\\sigma_y^2$  $r_{xy}$  \\\n",
       "0        0.000451  2.939645e-08        2.646154      0.853639  0.000157   \n",
       "\n",
       "           $a$  $\\Delta a$      $b$  $\\Delta b$  \n",
       "0  5342.852239  211.655058  0.23919    0.102023  "
      ]
     },
     "execution_count": 228,
     "metadata": {},
     "output_type": "execute_result"
    }
   ],
   "source": [
    "df, dat = mnk(np.delete(up.x, up.ignore), np.delete(up.y, up.ignore))\n",
    "df\n",
    "latex = df.style.hide(level=0, axis=0).format(mnk_fmt).to_latex()\n",
    "print(latex)\n",
    "df"
   ]
  },
  {
   "cell_type": "code",
   "execution_count": 229,
   "id": "92bdf744",
   "metadata": {
    "scrolled": true
   },
   "outputs": [
    {
     "name": "stdout",
     "output_type": "stream",
     "text": [
      "\\begin{tabular}{rrrrrrrrr}\n",
      "$\\overline{x}$ & $\\sigma_x^2$ & $\\overline{y}$ & $\\sigma_y^2$ & $r_{xy}$ & $a$ & $\\Delta a$ & $b$ & $\\Delta b$ \\\\\n",
      "4.95e-04 & 3.48e-08 & 2.48 & 8.01e-01 & 1.61e-04 & 4620.80 & 371.61 & 0.19 & 0.20 \\\\\n",
      "\\end{tabular}\n",
      "\n"
     ]
    },
    {
     "data": {
      "text/html": [
       "<div>\n",
       "<style scoped>\n",
       "    .dataframe tbody tr th:only-of-type {\n",
       "        vertical-align: middle;\n",
       "    }\n",
       "\n",
       "    .dataframe tbody tr th {\n",
       "        vertical-align: top;\n",
       "    }\n",
       "\n",
       "    .dataframe thead th {\n",
       "        text-align: right;\n",
       "    }\n",
       "</style>\n",
       "<table border=\"1\" class=\"dataframe\">\n",
       "  <thead>\n",
       "    <tr style=\"text-align: right;\">\n",
       "      <th></th>\n",
       "      <th>$\\overline{x}$</th>\n",
       "      <th>$\\sigma_x^2$</th>\n",
       "      <th>$\\overline{y}$</th>\n",
       "      <th>$\\sigma_y^2$</th>\n",
       "      <th>$r_{xy}$</th>\n",
       "      <th>$a$</th>\n",
       "      <th>$\\Delta a$</th>\n",
       "      <th>$b$</th>\n",
       "      <th>$\\Delta b$</th>\n",
       "    </tr>\n",
       "  </thead>\n",
       "  <tbody>\n",
       "    <tr>\n",
       "      <th>0</th>\n",
       "      <td>0.000495</td>\n",
       "      <td>3.481348e-08</td>\n",
       "      <td>2.481392</td>\n",
       "      <td>0.801021</td>\n",
       "      <td>0.000161</td>\n",
       "      <td>4620.802019</td>\n",
       "      <td>371.607997</td>\n",
       "      <td>0.192885</td>\n",
       "      <td>0.196671</td>\n",
       "    </tr>\n",
       "  </tbody>\n",
       "</table>\n",
       "</div>"
      ],
      "text/plain": [
       "   $\\overline{x}$  $\\sigma_x^2$  $\\overline{y}$  $\\sigma_y^2$  $r_{xy}$  \\\n",
       "0        0.000495  3.481348e-08        2.481392      0.801021  0.000161   \n",
       "\n",
       "           $a$  $\\Delta a$       $b$  $\\Delta b$  \n",
       "0  4620.802019  371.607997  0.192885    0.196671  "
      ]
     },
     "execution_count": 229,
     "metadata": {},
     "output_type": "execute_result"
    }
   ],
   "source": [
    "df, dat = mnk(np.delete(dw.x, dw.ignore), np.delete(dw.y, dw.ignore))\n",
    "df\n",
    "latex = df.style.hide(level=0, axis=0).format(mnk_fmt).to_latex()\n",
    "print(latex)\n",
    "df"
   ]
  },
  {
   "cell_type": "code",
   "execution_count": 232,
   "id": "f0ca1cfd",
   "metadata": {},
   "outputs": [
    {
     "data": {
      "text/plain": [
       "97667.2408424042"
      ]
     },
     "execution_count": 232,
     "metadata": {},
     "output_type": "execute_result"
    }
   ],
   "source": [
    "8.314 * 5342.852 / 0.0180152 * 0.03961"
   ]
  },
  {
   "cell_type": "code",
   "execution_count": 231,
   "id": "e2036e89",
   "metadata": {},
   "outputs": [
    {
     "data": {
      "text/plain": [
       "0.03961367272242095"
      ]
     },
     "execution_count": 231,
     "metadata": {},
     "output_type": "execute_result"
    }
   ],
   "source": [
    "211.65/5342.852239"
   ]
  },
  {
   "cell_type": "code",
   "execution_count": 236,
   "id": "e53a984e",
   "metadata": {},
   "outputs": [
    {
     "data": {
      "text/plain": [
       "2132496.3356480086"
      ]
     },
     "execution_count": 236,
     "metadata": {},
     "output_type": "execute_result"
    }
   ],
   "source": [
    "8.314 * 4620.802019/ 0.0180152"
   ]
  },
  {
   "cell_type": "code",
   "execution_count": 234,
   "id": "bab184e0",
   "metadata": {},
   "outputs": [
    {
     "data": {
      "text/plain": [
       "0.08042067058316009"
      ]
     },
     "execution_count": 234,
     "metadata": {},
     "output_type": "execute_result"
    }
   ],
   "source": [
    "371.607997 / 4620.802019"
   ]
  },
  {
   "cell_type": "markdown",
   "id": "ed52d4a3",
   "metadata": {},
   "source": [
    "## Способ 1/T ln(P)"
   ]
  },
  {
   "cell_type": "code",
   "execution_count": 189,
   "id": "6658835c",
   "metadata": {},
   "outputs": [],
   "source": [
    "def mnk(x, y):\n",
    "    sx = (x**2).mean() - (x.mean())**2\n",
    "    sy = (y**2).mean() - (y.mean())**2\n",
    "    rxy = (y*x).mean() - (y.mean() * x.mean())\n",
    "    a = rxy / sx\n",
    "    da = (1/(len(x) - 2) * (sy/sx - a**2))**(0.5)\n",
    "    b = y.mean() - a * x.mean()\n",
    "    db = da*(sx + (x.mean())**2)**(1/2)\n",
    "    dat = pd.DataFrame({\n",
    "        '$\\overline{x}$' : [x.mean()],\n",
    "        '$\\sigma_x^2$'   : [sx],\n",
    "        '$\\overline{y}$' : [y.mean()],\n",
    "        '$\\sigma_y^2$'   : [sy],\n",
    "        '$r_{xy}$'       : [rxy],\n",
    "        '$a$'            : [a],\n",
    "        '$\\Delta a$'     : [da],\n",
    "        '$b$'            : [b],\n",
    "        '$\\Delta b$'     : [db],\n",
    "    })\n",
    "    return dat, [x.mean(), sx, y.mean(), sy, rxy, a, da, b, db]"
   ]
  },
  {
   "cell_type": "code",
   "execution_count": 190,
   "id": "c66e412d",
   "metadata": {
    "scrolled": true
   },
   "outputs": [
    {
     "data": {
      "text/html": [
       "<div>\n",
       "<style scoped>\n",
       "    .dataframe tbody tr th:only-of-type {\n",
       "        vertical-align: middle;\n",
       "    }\n",
       "\n",
       "    .dataframe tbody tr th {\n",
       "        vertical-align: top;\n",
       "    }\n",
       "\n",
       "    .dataframe thead tr th {\n",
       "        text-align: left;\n",
       "    }\n",
       "</style>\n",
       "<table border=\"1\" class=\"dataframe\">\n",
       "  <thead>\n",
       "    <tr>\n",
       "      <th></th>\n",
       "      <th colspan=\"2\" halign=\"left\">Up</th>\n",
       "      <th colspan=\"2\" halign=\"left\">Down</th>\n",
       "    </tr>\n",
       "    <tr>\n",
       "      <th></th>\n",
       "      <th>lnp</th>\n",
       "      <th>1/T</th>\n",
       "      <th>lnp</th>\n",
       "      <th>1/T</th>\n",
       "    </tr>\n",
       "  </thead>\n",
       "  <tbody>\n",
       "    <tr>\n",
       "      <th>0</th>\n",
       "      <td>2.660260</td>\n",
       "      <td>0.003388</td>\n",
       "      <td>2.912351</td>\n",
       "      <td>0.003388</td>\n",
       "    </tr>\n",
       "    <tr>\n",
       "      <th>1</th>\n",
       "      <td>2.939162</td>\n",
       "      <td>0.003365</td>\n",
       "      <td>3.072693</td>\n",
       "      <td>0.003365</td>\n",
       "    </tr>\n",
       "    <tr>\n",
       "      <th>2</th>\n",
       "      <td>3.077312</td>\n",
       "      <td>0.003343</td>\n",
       "      <td>3.165475</td>\n",
       "      <td>0.003343</td>\n",
       "    </tr>\n",
       "    <tr>\n",
       "      <th>3</th>\n",
       "      <td>3.222868</td>\n",
       "      <td>0.003321</td>\n",
       "      <td>3.284664</td>\n",
       "      <td>0.003321</td>\n",
       "    </tr>\n",
       "    <tr>\n",
       "      <th>4</th>\n",
       "      <td>3.335770</td>\n",
       "      <td>0.003299</td>\n",
       "      <td>3.401197</td>\n",
       "      <td>0.003299</td>\n",
       "    </tr>\n",
       "    <tr>\n",
       "      <th>5</th>\n",
       "      <td>3.453157</td>\n",
       "      <td>0.003277</td>\n",
       "      <td>3.529297</td>\n",
       "      <td>0.003277</td>\n",
       "    </tr>\n",
       "    <tr>\n",
       "      <th>6</th>\n",
       "      <td>3.586293</td>\n",
       "      <td>0.003256</td>\n",
       "      <td>3.637586</td>\n",
       "      <td>0.003256</td>\n",
       "    </tr>\n",
       "    <tr>\n",
       "      <th>7</th>\n",
       "      <td>3.711130</td>\n",
       "      <td>0.003235</td>\n",
       "      <td>3.754199</td>\n",
       "      <td>0.003235</td>\n",
       "    </tr>\n",
       "    <tr>\n",
       "      <th>8</th>\n",
       "      <td>3.824284</td>\n",
       "      <td>0.003214</td>\n",
       "      <td>3.854394</td>\n",
       "      <td>0.003214</td>\n",
       "    </tr>\n",
       "    <tr>\n",
       "      <th>9</th>\n",
       "      <td>3.935740</td>\n",
       "      <td>0.003193</td>\n",
       "      <td>3.966511</td>\n",
       "      <td>0.003193</td>\n",
       "    </tr>\n",
       "    <tr>\n",
       "      <th>10</th>\n",
       "      <td>4.048301</td>\n",
       "      <td>0.003173</td>\n",
       "      <td>4.077537</td>\n",
       "      <td>0.003173</td>\n",
       "    </tr>\n",
       "    <tr>\n",
       "      <th>11</th>\n",
       "      <td>4.157319</td>\n",
       "      <td>0.003153</td>\n",
       "      <td>4.178992</td>\n",
       "      <td>0.003154</td>\n",
       "    </tr>\n",
       "    <tr>\n",
       "      <th>12</th>\n",
       "      <td>4.261270</td>\n",
       "      <td>0.003133</td>\n",
       "      <td>4.278054</td>\n",
       "      <td>0.003133</td>\n",
       "    </tr>\n",
       "    <tr>\n",
       "      <th>13</th>\n",
       "      <td>4.366913</td>\n",
       "      <td>0.003114</td>\n",
       "      <td>4.373238</td>\n",
       "      <td>0.003117</td>\n",
       "    </tr>\n",
       "    <tr>\n",
       "      <th>14</th>\n",
       "      <td>4.473922</td>\n",
       "      <td>0.003095</td>\n",
       "      <td>4.473922</td>\n",
       "      <td>0.003095</td>\n",
       "    </tr>\n",
       "  </tbody>\n",
       "</table>\n",
       "</div>"
      ],
      "text/plain": [
       "          Up                Down          \n",
       "         lnp       1/T       lnp       1/T\n",
       "0   2.660260  0.003388  2.912351  0.003388\n",
       "1   2.939162  0.003365  3.072693  0.003365\n",
       "2   3.077312  0.003343  3.165475  0.003343\n",
       "3   3.222868  0.003321  3.284664  0.003321\n",
       "4   3.335770  0.003299  3.401197  0.003299\n",
       "5   3.453157  0.003277  3.529297  0.003277\n",
       "6   3.586293  0.003256  3.637586  0.003256\n",
       "7   3.711130  0.003235  3.754199  0.003235\n",
       "8   3.824284  0.003214  3.854394  0.003214\n",
       "9   3.935740  0.003193  3.966511  0.003193\n",
       "10  4.048301  0.003173  4.077537  0.003173\n",
       "11  4.157319  0.003153  4.178992  0.003154\n",
       "12  4.261270  0.003133  4.278054  0.003133\n",
       "13  4.366913  0.003114  4.373238  0.003117\n",
       "14  4.473922  0.003095  4.473922  0.003095"
      ]
     },
     "execution_count": 190,
     "metadata": {},
     "output_type": "execute_result"
    }
   ],
   "source": [
    "cup   = copy.deepcopy(up)\n",
    "cup.x = dataset(1/(cup.x.data + 273.15), up.x.sigma/(up.x.data+273.15)**2)\n",
    "cup.y = dataset(np.log(cup.y.data), up.y.sigma/(up.y.data))\n",
    "\n",
    "cdw   = copy.deepcopy(dw)\n",
    "cdw.x = dataset(1/(cdw.x.data + 273.15), dw.x.sigma/(dw.x.data+273.15)**2)\n",
    "cdw.y = dataset(np.log(cdw.y.data), dw.y.sigma/(dw.y.data))\n",
    "\n",
    "out = pd.DataFrame({'lnpup' : cup.y.data, '1/Tup' : cup.x.data, 'lnpdw' : cdw.y.data, '1/Tdw' : cdw.x.data})\n",
    "\n",
    "out.columns = pd.MultiIndex.from_tuples([\n",
    "    (\"Up\", \"lnp\"),\n",
    "    (\"Up\", \"1/T\"),\n",
    "    (\"Down\", \"lnp\"),\n",
    "    (\"Down\", \"1/T\"),\n",
    "])\n",
    "\n",
    "names = {\n",
    "            'lnp' : r\"$\\ln{P}$\",\n",
    "            '1/T' : r\"$\\frac{1}{T}, \\text{\\footnotesize К}$\",\n",
    "            'Up' : 'Нагрев',\n",
    "            'Down' : 'Охлаждение',\n",
    "        }\n",
    "\n",
    "out_fmt = { \n",
    "    (names['Up'], names['lnp']) : \"{:.3f}\",\n",
    "    (names['Up'], names['1/T']) : \"{:.4f}\",\n",
    "    (names['Down'], names['lnp']) : \"{:.3f}\",\n",
    "    (names['Down'], names['1/T']) : \"{:.4f}\",\n",
    "} \n",
    "\n",
    "latex = out.rename(\n",
    "        columns=(names)\n",
    "    ).style.hide(level=0, axis=0).format(out_fmt).to_latex(\n",
    "        buf     = 'Линеаризация.tex',\n",
    "        label   = 'tab:linear',\n",
    "        caption = 'Линеаризация',\n",
    "        column_format=\"c\" * 4 ,\n",
    "        position_float = 'centering',\n",
    "        hrules=True,\n",
    "        multicol_align = 'c',\n",
    "        environment = r'subtable',\n",
    "    )\n",
    "\n",
    "a_file = open(\"Линеаризация.tex\", \"r\")\n",
    "list_of_lines = a_file.readlines()\n",
    "list_of_lines[0] = r'\\begin{subtable}{0.48\\textwidth}'\n",
    "\n",
    "a_file = open(\"Линеаризация.tex\", \"w\")\n",
    "a_file.writelines(list_of_lines)\n",
    "a_file.close()\n",
    "\n",
    "\n",
    "out"
   ]
  },
  {
   "cell_type": "code",
   "execution_count": 199,
   "id": "55a43c1c",
   "metadata": {},
   "outputs": [],
   "source": [
    "cup.ignore = (0)"
   ]
  },
  {
   "cell_type": "code",
   "execution_count": 200,
   "id": "fc1ebbd7",
   "metadata": {
    "scrolled": false
   },
   "outputs": [
    {
     "name": "stdout",
     "output_type": "stream",
     "text": [
      "[-5637.27784208    21.93065783]\n",
      "[-5302.52118882    20.89737489]\n"
     ]
    },
    {
     "data": {
      "image/png": "[encoded data removed]",
      "text/plain": [
       "<Figure size 432x288 with 1 Axes>"
      ]
     },
     "metadata": {
      "needs_background": "light"
     },
     "output_type": "display_data"
    }
   ],
   "source": [
    "plt.ylabel(r\"$\\ln{P}$\")\n",
    "plt.xlabel(r\"$1/T$, $1/K$\")\n",
    "\n",
    "#plt.scatter(cup.x.data, cup.y.data, marker='*', s=10, c='orange', label='Нагрев')\n",
    "plt.errorbar(cup.x.data, cup.y.data, xerr=cup.x.sigma, yerr=cup.x.sigma, c='orange', label='Нагрев', fmt='.')\n",
    "plt.scatter(cup.ignored()[0], cup.ignored()[1], s=70, marker='x', c='r')\n",
    "\n",
    "\n",
    "#plt.scatter(cdw.x.data, cdw.y.data, marker='*', s=10, c='blue',   label='Охлаждение')\n",
    "plt.errorbar(cdw.x.data, cdw.y.data, xerr=cdw.x.sigma, yerr=cdw.x.sigma, c='blue',   label='Охлаждение', fmt='.')\n",
    "plt.scatter(cdw.ignored()[0], cdw.ignored()[1], s=70, marker='x', c='r')\n",
    "\n",
    "p = np.polyfit(cup.clean()[0], cup.clean()[1], 1)\n",
    "pol = lambda x: p[0]*x + p[1]\n",
    "t = np.linspace(cup.x.data.min(), cup.x.data.max(), 100)\n",
    "plt.plot(t, pol(t), c='orange', alpha=0.4)\n",
    "print(p)\n",
    "\n",
    "p = np.polyfit(cdw.clean()[0], cdw.clean()[1], 1)\n",
    "pol = lambda x: p[0]*x + p[1]\n",
    "t = np.linspace(cdw.x.data.min(), cdw.x.data.max(), 100)\n",
    "plt.plot(t, pol(t), c='blue', alpha=0.4)\n",
    "print(p)\n",
    "\n",
    "plt.legend()\n",
    "plt.savefig('lnP(T).pdf')"
   ]
  },
  {
   "cell_type": "code",
   "execution_count": 201,
   "id": "d545f195",
   "metadata": {},
   "outputs": [],
   "source": [
    "mnk_fmt = {\n",
    "        '$\\overline{x}$' : \"{:.2e}\",\n",
    "        '$\\sigma_x^2$'   : \"{:.2e}\",\n",
    "        '$\\overline{y}$' : \"{:.2f}\",\n",
    "        '$\\sigma_y^2$'   : \"{:.2e}\",\n",
    "        '$r_{xy}$'       : \"{:.2e}\",\n",
    "        '$a$'            : \"{:.2f}\",\n",
    "        '$\\Delta a$'     : \"{:.2f}\",\n",
    "        '$b$'            : \"{:.2f}\",\n",
    "        '$\\Delta b$'     : \"{:.2f}\",\n",
    "}"
   ]
  },
  {
   "cell_type": "code",
   "execution_count": 205,
   "id": "16b138b8",
   "metadata": {
    "scrolled": true
   },
   "outputs": [
    {
     "data": {
      "text/html": [
       "<div>\n",
       "<style scoped>\n",
       "    .dataframe tbody tr th:only-of-type {\n",
       "        vertical-align: middle;\n",
       "    }\n",
       "\n",
       "    .dataframe tbody tr th {\n",
       "        vertical-align: top;\n",
       "    }\n",
       "\n",
       "    .dataframe thead th {\n",
       "        text-align: right;\n",
       "    }\n",
       "</style>\n",
       "<table border=\"1\" class=\"dataframe\">\n",
       "  <thead>\n",
       "    <tr style=\"text-align: right;\">\n",
       "      <th></th>\n",
       "      <th>$\\overline{x}$</th>\n",
       "      <th>$\\sigma_x^2$</th>\n",
       "      <th>$\\overline{y}$</th>\n",
       "      <th>$\\sigma_y^2$</th>\n",
       "      <th>$r_{xy}$</th>\n",
       "      <th>$a$</th>\n",
       "      <th>$\\Delta a$</th>\n",
       "      <th>$b$</th>\n",
       "      <th>$\\Delta b$</th>\n",
       "    </tr>\n",
       "  </thead>\n",
       "  <tbody>\n",
       "    <tr>\n",
       "      <th>0</th>\n",
       "      <td>0.003226</td>\n",
       "      <td>7.045434e-09</td>\n",
       "      <td>3.742389</td>\n",
       "      <td>0.223999</td>\n",
       "      <td>-0.00004</td>\n",
       "      <td>-5637.277842</td>\n",
       "      <td>34.918772</td>\n",
       "      <td>21.930658</td>\n",
       "      <td>0.112701</td>\n",
       "    </tr>\n",
       "  </tbody>\n",
       "</table>\n",
       "</div>"
      ],
      "text/plain": [
       "   $\\overline{x}$  $\\sigma_x^2$  $\\overline{y}$  $\\sigma_y^2$  $r_{xy}$  \\\n",
       "0        0.003226  7.045434e-09        3.742389      0.223999  -0.00004   \n",
       "\n",
       "           $a$  $\\Delta a$        $b$  $\\Delta b$  \n",
       "0 -5637.277842   34.918772  21.930658    0.112701  "
      ]
     },
     "execution_count": 205,
     "metadata": {},
     "output_type": "execute_result"
    }
   ],
   "source": []
  },
  {
   "cell_type": "code",
   "execution_count": 208,
   "id": "d09c78cd",
   "metadata": {
    "scrolled": true
   },
   "outputs": [
    {
     "name": "stdout",
     "output_type": "stream",
     "text": [
      "\\begin{tabular}{rrrrrrrrr}\n",
      "$\\overline{x}$ & $\\sigma_x^2$ & $\\overline{y}$ & $\\sigma_y^2$ & $r_{xy}$ & $a$ & $\\Delta a$ & $b$ & $\\Delta b$ \\\\\n",
      "3.23e-03 & 7.05e-09 & 3.74 & 2.24e-01 & -3.97e-05 & -5637.28 & 34.92 & 21.93 & 0.11 \\\\\n",
      "\\end{tabular}\n",
      "\n"
     ]
    },
    {
     "data": {
      "text/html": [
       "<div>\n",
       "<style scoped>\n",
       "    .dataframe tbody tr th:only-of-type {\n",
       "        vertical-align: middle;\n",
       "    }\n",
       "\n",
       "    .dataframe tbody tr th {\n",
       "        vertical-align: top;\n",
       "    }\n",
       "\n",
       "    .dataframe thead th {\n",
       "        text-align: right;\n",
       "    }\n",
       "</style>\n",
       "<table border=\"1\" class=\"dataframe\">\n",
       "  <thead>\n",
       "    <tr style=\"text-align: right;\">\n",
       "      <th></th>\n",
       "      <th>$\\overline{x}$</th>\n",
       "      <th>$\\sigma_x^2$</th>\n",
       "      <th>$\\overline{y}$</th>\n",
       "      <th>$\\sigma_y^2$</th>\n",
       "      <th>$r_{xy}$</th>\n",
       "      <th>$a$</th>\n",
       "      <th>$\\Delta a$</th>\n",
       "      <th>$b$</th>\n",
       "      <th>$\\Delta b$</th>\n",
       "    </tr>\n",
       "  </thead>\n",
       "  <tbody>\n",
       "    <tr>\n",
       "      <th>0</th>\n",
       "      <td>0.003226</td>\n",
       "      <td>7.045434e-09</td>\n",
       "      <td>3.742389</td>\n",
       "      <td>0.223999</td>\n",
       "      <td>-0.00004</td>\n",
       "      <td>-5637.277842</td>\n",
       "      <td>34.918772</td>\n",
       "      <td>21.930658</td>\n",
       "      <td>0.112701</td>\n",
       "    </tr>\n",
       "  </tbody>\n",
       "</table>\n",
       "</div>"
      ],
      "text/plain": [
       "   $\\overline{x}$  $\\sigma_x^2$  $\\overline{y}$  $\\sigma_y^2$  $r_{xy}$  \\\n",
       "0        0.003226  7.045434e-09        3.742389      0.223999  -0.00004   \n",
       "\n",
       "           $a$  $\\Delta a$        $b$  $\\Delta b$  \n",
       "0 -5637.277842   34.918772  21.930658    0.112701  "
      ]
     },
     "execution_count": 208,
     "metadata": {},
     "output_type": "execute_result"
    }
   ],
   "source": [
    "df, dat = mnk(cup.clean()[0], cup.clean()[1])\n",
    "df\n",
    "\n",
    "latex = df.style.hide(level=0, axis=0).format(mnk_fmt).to_latex()\n",
    "print(latex)\n",
    "df"
   ]
  },
  {
   "cell_type": "code",
   "execution_count": 206,
   "id": "705a9ca6",
   "metadata": {
    "scrolled": false
   },
   "outputs": [
    {
     "name": "stdout",
     "output_type": "stream",
     "text": [
      "\\begin{tabular}{rrrrrrrrr}\n",
      "$\\overline{x}$ & $\\sigma_x^2$ & $\\overline{y}$ & $\\sigma_y^2$ & $r_{xy}$ & $a$ & $\\Delta a$ & $b$ & $\\Delta b$ \\\\\n",
      "3.24e-03 & 8.14e-09 & 3.73 & 2.29e-01 & -4.32e-05 & -5302.52 & 29.12 & 20.90 & 0.09 \\\\\n",
      "\\end{tabular}\n",
      "\n"
     ]
    },
    {
     "data": {
      "text/html": [
       "<div>\n",
       "<style scoped>\n",
       "    .dataframe tbody tr th:only-of-type {\n",
       "        vertical-align: middle;\n",
       "    }\n",
       "\n",
       "    .dataframe tbody tr th {\n",
       "        vertical-align: top;\n",
       "    }\n",
       "\n",
       "    .dataframe thead th {\n",
       "        text-align: right;\n",
       "    }\n",
       "</style>\n",
       "<table border=\"1\" class=\"dataframe\">\n",
       "  <thead>\n",
       "    <tr style=\"text-align: right;\">\n",
       "      <th></th>\n",
       "      <th>$\\overline{x}$</th>\n",
       "      <th>$\\sigma_x^2$</th>\n",
       "      <th>$\\overline{y}$</th>\n",
       "      <th>$\\sigma_y^2$</th>\n",
       "      <th>$r_{xy}$</th>\n",
       "      <th>$a$</th>\n",
       "      <th>$\\Delta a$</th>\n",
       "      <th>$b$</th>\n",
       "      <th>$\\Delta b$</th>\n",
       "    </tr>\n",
       "  </thead>\n",
       "  <tbody>\n",
       "    <tr>\n",
       "      <th>0</th>\n",
       "      <td>0.003237</td>\n",
       "      <td>8.144868e-09</td>\n",
       "      <td>3.730674</td>\n",
       "      <td>0.229097</td>\n",
       "      <td>-0.000043</td>\n",
       "      <td>-5302.521189</td>\n",
       "      <td>29.122469</td>\n",
       "      <td>20.897375</td>\n",
       "      <td>0.094319</td>\n",
       "    </tr>\n",
       "  </tbody>\n",
       "</table>\n",
       "</div>"
      ],
      "text/plain": [
       "   $\\overline{x}$  $\\sigma_x^2$  $\\overline{y}$  $\\sigma_y^2$  $r_{xy}$  \\\n",
       "0        0.003237  8.144868e-09        3.730674      0.229097 -0.000043   \n",
       "\n",
       "           $a$  $\\Delta a$        $b$  $\\Delta b$  \n",
       "0 -5302.521189   29.122469  20.897375    0.094319  "
      ]
     },
     "execution_count": 206,
     "metadata": {},
     "output_type": "execute_result"
    }
   ],
   "source": [
    "df, dat = mnk(cdw.clean()[0], cdw.clean()[1])\n",
    "\n",
    "\n",
    "latex = df.style.hide(level=0, axis=0).format(mnk_fmt).to_latex()\n",
    "print(latex)\n",
    "df"
   ]
  },
  {
   "cell_type": "code",
   "execution_count": 197,
   "id": "94c45e2b",
   "metadata": {},
   "outputs": [
    {
     "data": {
      "text/plain": [
       "14288.483955824253"
      ]
     },
     "execution_count": 197,
     "metadata": {},
     "output_type": "execute_result"
    }
   ],
   "source": [
    "-8.314 * -5637.27784208 / 0.0180152 * 0.005492192857317406"
   ]
  },
  {
   "cell_type": "code",
   "execution_count": 210,
   "id": "21563830",
   "metadata": {},
   "outputs": [
    {
     "data": {
      "text/plain": [
       "2447109.1724682203"
      ]
     },
     "execution_count": 210,
     "metadata": {},
     "output_type": "execute_result"
    }
   ],
   "source": [
    "-8.314 * -5302.52118882 / 0.0180152"
   ]
  },
  {
   "cell_type": "code",
   "execution_count": 211,
   "id": "3f9c2f03",
   "metadata": {},
   "outputs": [
    {
     "data": {
      "text/plain": [
       "-0.005492192857317406"
      ]
     },
     "execution_count": 211,
     "metadata": {},
     "output_type": "execute_result"
    }
   ],
   "source": [
    "(29.122469/-5302.521189)"
   ]
  },
  {
   "cell_type": "code",
   "execution_count": 209,
   "id": "daabaf84",
   "metadata": {},
   "outputs": [
    {
     "data": {
      "text/plain": [
       "2601599.092898664"
      ]
     },
     "execution_count": 209,
     "metadata": {},
     "output_type": "execute_result"
    }
   ],
   "source": [
    "-8.314 * -5637.277842 / 0.0180152"
   ]
  },
  {
   "cell_type": "code",
   "execution_count": 212,
   "id": "c5fbc185",
   "metadata": {},
   "outputs": [
    {
     "data": {
      "text/plain": [
       "13439.768272557"
      ]
     },
     "execution_count": 212,
     "metadata": {},
     "output_type": "execute_result"
    }
   ],
   "source": [
    "0.0054921 * 2447109.17"
   ]
  },
  {
   "cell_type": "code",
   "execution_count": null,
   "id": "265013f0",
   "metadata": {},
   "outputs": [],
   "source": []
  }
 ],
 "metadata": {
  "kernelspec": {
   "display_name": "Python 3 (ipykernel)",
   "language": "python",
   "name": "python3"
  },
  "language_info": {
   "codemirror_mode": {
    "name": "ipython",
    "version": 3
   },
   "file_extension": ".py",
   "mimetype": "text/x-python",
   "name": "python",
   "nbconvert_exporter": "python",
   "pygments_lexer": "ipython3",
   "version": "3.10.2"
  }
 },
 "nbformat": 4,
 "nbformat_minor": 5
}
