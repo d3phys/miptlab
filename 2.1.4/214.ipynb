{
 "cells": [
  {
   "cell_type": "code",
   "execution_count": 1,
   "id": "aba52141",
   "metadata": {},
   "outputs": [],
   "source": [
    "import numpy as np\n",
    "import pandas as pd\n",
    "import matplotlib.pyplot as plt\n",
    "import scipy as sp"
   ]
  },
  {
   "cell_type": "code",
   "execution_count": null,
   "id": "361b0027",
   "metadata": {},
   "outputs": [],
   "source": []
  },
  {
   "cell_type": "code",
   "execution_count": 2,
   "id": "2b10fb64",
   "metadata": {},
   "outputs": [],
   "source": [
    "P = 10.8\n",
    "R = 18.2\n",
    "alpha = 4.28 * 10**(-3)\n",
    "dT = 20 "
   ]
  },
  {
   "cell_type": "code",
   "execution_count": 3,
   "id": "12605e04",
   "metadata": {},
   "outputs": [],
   "source": [
    "data = pd.read_excel(\"214.xlsx\")\n"
   ]
  },
  {
   "cell_type": "code",
   "execution_count": 4,
   "id": "c943bc6e",
   "metadata": {
    "scrolled": true
   },
   "outputs": [
    {
     "data": {
      "text/plain": [
       "Index(['Rkal', 'Rkalf', 't1k', 't2k', 'tkal', 'Rironf', 'Riron', 't1i', 't2i',\n",
       "       'tiron', 'Rlatf', 'Rlat', 't1l', 't2l', 'tlat', 'Unnamed: 15',\n",
       "       'Unnamed: 16', 'Rl', 'tl', 'dR/dt', 'R', 't', 'dR/dt.1', 'Ri', 'ti',\n",
       "       'dR/dt.2', 'Re', 'te', 'dR/dt.3'],\n",
       "      dtype='object')"
      ]
     },
     "execution_count": 4,
     "metadata": {},
     "output_type": "execute_result"
    }
   ],
   "source": [
    "data.head()\n",
    "data.columns"
   ]
  },
  {
   "cell_type": "code",
   "execution_count": 5,
   "id": "95b8501d",
   "metadata": {
    "scrolled": true
   },
   "outputs": [
    {
     "data": {
      "text/plain": [
       "0        0.000\n",
       "1       62.220\n",
       "2      121.005\n",
       "3      185.015\n",
       "4      253.125\n",
       "5      324.680\n",
       "6      401.125\n",
       "7      482.570\n",
       "8      564.470\n",
       "9      655.755\n",
       "10     746.580\n",
       "11     859.310\n",
       "12     943.780\n",
       "13    1044.535\n",
       "14    1149.250\n",
       "15    1210.195\n",
       "Name: tiron, dtype: float64"
      ]
     },
     "execution_count": 5,
     "metadata": {},
     "output_type": "execute_result"
    }
   ],
   "source": [
    "\n",
    "r_empty = data[['Riron', 'tiron']].dropna()['Riron']\n",
    "t_empty = data[['Riron', 'tiron']].dropna()['tiron']\n",
    "t_empty"
   ]
  },
  {
   "cell_type": "code",
   "execution_count": 6,
   "id": "44454efe",
   "metadata": {},
   "outputs": [],
   "source": [
    "from scipy.interpolate import UnivariateSpline"
   ]
  },
  {
   "cell_type": "code",
   "execution_count": 7,
   "id": "cd770d32",
   "metadata": {
    "scrolled": false
   },
   "outputs": [
    {
     "data": {
      "text/plain": [
       "[<matplotlib.lines.Line2D at 0x22da5b12050>]"
      ]
     },
     "execution_count": 7,
     "metadata": {},
     "output_type": "execute_result"
    },
    {
     "data": {
      "image/png": "[encoded data removed]",
      "text/plain": [
       "<Figure size 432x288 with 1 Axes>"
      ]
     },
     "metadata": {
      "needs_background": "light"
     },
     "output_type": "display_data"
    }
   ],
   "source": [
    "plt.title(r\"Это название  графика  $y = x^3$ - да, можно использовать LaTeX:\")\n",
    "plt.ylabel(\"Это ось Y\")\n",
    "plt.xlabel(r\"Это ось X, $F(x) = \\int f(x) dx + C$\")\n",
    "\n",
    "plt.scatter(t_empty, r_empty, s = 40, c = \"g\", alpha=1, marker=r'+', label=\"Luck\")\n",
    "\n",
    "Xn = np.linspace(np.min(t_empty), np.max(t_empty), 15) \n",
    "\n",
    "p = np.polyfit(t_empty, r_empty, 2)\n",
    "pol = lambda n : p[0] * n**2 + p[1] * n**1 + p[2]\n",
    "pol(2)\n",
    "plt.plot(Xn, pol(Xn), c='k', alpha=0.4)"
   ]
  },
  {
   "cell_type": "code",
   "execution_count": 8,
   "id": "99b7e722",
   "metadata": {},
   "outputs": [],
   "source": [
    "S = pol(Xn) \n",
    "Ynn = pol(Xn)"
   ]
  },
  {
   "cell_type": "code",
   "execution_count": 9,
   "id": "19f491e4",
   "metadata": {
    "scrolled": true
   },
   "outputs": [],
   "source": [
    "D = np.zeros(len(S) - 1);\n",
    "for i in range(len(S) - 1):\n",
    "    D[i] = (Ynn[i] - Ynn[i + 1]) / (Xn[i] - Xn[i + 1])"
   ]
  },
  {
   "cell_type": "code",
   "execution_count": 10,
   "id": "5cf97fdd",
   "metadata": {},
   "outputs": [
    {
     "data": {
      "text/plain": [
       "array([0.00075365, 0.00072953, 0.00070541, 0.00068129, 0.00065718,\n",
       "       0.00063306, 0.00060894, 0.00058482, 0.0005607 , 0.00053659,\n",
       "       0.00051247, 0.00048835, 0.00046423, 0.00044011])"
      ]
     },
     "execution_count": 10,
     "metadata": {},
     "output_type": "execute_result"
    }
   ],
   "source": [
    "D"
   ]
  },
  {
   "cell_type": "code",
   "execution_count": 11,
   "id": "4a902f99",
   "metadata": {
    "scrolled": true
   },
   "outputs": [
    {
     "data": {
      "text/plain": [
       "[<matplotlib.lines.Line2D at 0x22da7c11780>]"
      ]
     },
     "execution_count": 11,
     "metadata": {},
     "output_type": "execute_result"
    },
    {
     "data": {
      "image/png": "[encoded data removed]",
      "text/plain": [
       "<Figure size 432x288 with 1 Axes>"
      ]
     },
     "metadata": {
      "needs_background": "light"
     },
     "output_type": "display_data"
    }
   ],
   "source": [
    "x = Ynn[0:len(S) - 1]\n",
    "\n",
    "plt.plot(x, D, 'x', alpha=1)\n",
    "\n",
    "xs = np.linspace(np.min(x) - 0.4, np.max(x), 20) \n",
    "\n",
    "p = np.polyfit(x[0:3], D[0:3], 1)\n",
    "\n",
    "pol = lambda n : p[0] * n + p[1]\n",
    "xi = np.linspace(18, 19, 100)\n",
    "plt.plot(xi, pol(xi), c='k', alpha=0.4)"
   ]
  },
  {
   "cell_type": "code",
   "execution_count": 12,
   "id": "b1a0f921",
   "metadata": {},
   "outputs": [
    {
     "data": {
      "text/plain": [
       "920.6199587848174"
      ]
     },
     "execution_count": 12,
     "metadata": {},
     "output_type": "execute_result"
    }
   ],
   "source": [
    "C = P * R * alpha / (pol(R) * (1 + alpha * dT))\n",
    "C"
   ]
  },
  {
   "cell_type": "code",
   "execution_count": 13,
   "id": "409414b0",
   "metadata": {},
   "outputs": [],
   "source": [
    "c_empty = 633.7818898491655"
   ]
  },
  {
   "cell_type": "code",
   "execution_count": 14,
   "id": "84d0201d",
   "metadata": {},
   "outputs": [
    {
     "data": {
      "text/plain": [
       "351.90537226800626"
      ]
     },
     "execution_count": 14,
     "metadata": {},
     "output_type": "execute_result"
    }
   ],
   "source": [
    "(C - c_empty) / (815.1 * 10**-3)"
   ]
  },
  {
   "cell_type": "code",
   "execution_count": 16,
   "id": "a630acb3",
   "metadata": {
    "scrolled": true
   },
   "outputs": [
    {
     "ename": "IndentationError",
     "evalue": "expected an indented block after function definition on line 1 (1545052662.py, line 3)",
     "output_type": "error",
     "traceback": [
      "\u001b[1;36m  Input \u001b[1;32mIn [16]\u001b[1;36m\u001b[0m\n\u001b[1;33m    r_empty = data[['Riron', 'tiron']].dropna()['Riron']\u001b[0m\n\u001b[1;37m    ^\u001b[0m\n\u001b[1;31mIndentationError\u001b[0m\u001b[1;31m:\u001b[0m expected an indented block after function definition on line 1\n"
     ]
    }
   ],
   "source": [
    "def scat():\n",
    "    \n",
    "r_empty = data[['Riron', 'tiron']].dropna()['Riron']\n",
    "t_empty = data[['Riron', 'tiron']].dropna()['tiron']"
   ]
  },
  {
   "cell_type": "code",
   "execution_count": 17,
   "id": "e85827e4",
   "metadata": {},
   "outputs": [],
   "source": [
    "def read_rel(data, col1, col2):     \n",
    "    return data[[col1, col2]].dropna()[col1], data[[col1, col2]].dropna()[col2] "
   ]
  },
  {
   "cell_type": "code",
   "execution_count": 211,
   "id": "07d5bae7",
   "metadata": {},
   "outputs": [],
   "source": [
    "C = lambda prm, R: P * R * alpha / (prm * (1 + alpha * dT))"
   ]
  },
  {
   "cell_type": "code",
   "execution_count": 19,
   "id": "f15b16b0",
   "metadata": {},
   "outputs": [],
   "source": [
    "def scat(data, tempr, rst, mrk, clr, lbl):\n",
    "    x, y = read_rel(data, tempr, rst)\n",
    "    plt.scatter(x, y, s = 20, c = clr, alpha=1, marker=mrk, label=lbl)\n",
    "    x_pol = np.linspace(np.min(x), np.max(x), 15) \n",
    "    p = np.polyfit(x, y, 2)\n",
    "    pol = lambda n : p[0] * n**2 + p[1] * n**1 + p[2]\n",
    "    \n",
    "    plt.title(r\"Зависимость сопротивления систем от температуры\")\n",
    "    plt.ylabel(r\"$R$, кОм\")\n",
    "    plt.xlabel(r\"$t$, c\")\n",
    "    plt.grid(True, linewidth=0.5)\n",
    "    plt.plot(x_pol, pol(x_pol), c=clr, alpha=0.4)\n",
    "    plt.legend()\n",
    "    plt.savefig(\"Сопротивление от температуры.pdf\")\n",
    "    "
   ]
  },
  {
   "cell_type": "code",
   "execution_count": 20,
   "id": "55ea560a",
   "metadata": {},
   "outputs": [],
   "source": [
    "def latex_tab(df):\n",
    "    tab = df.to_latex(index=False, float_format='%.6f')\n",
    "    tab = tab.replace('\\\\\\\\\\n', '\\\\\\\\ \\\\hline\\n')\n",
    "    tab = tab.replace('\\\\toprule', '\\\\hline')\n",
    "    tab = tab.replace('\\\\midrule\\n', '')\n",
    "    tab = tab.replace('\\\\bottomrule\\n', '')\n",
    "    return tab"
   ]
  },
  {
   "cell_type": "code",
   "execution_count": 21,
   "id": "e89d3f5f",
   "metadata": {
    "scrolled": true
   },
   "outputs": [
    {
     "name": "stdout",
     "output_type": "stream",
     "text": [
      "\\begin{tabular}{rrrrrr}\n",
      "\\hline\n",
      "      tkal &      Rkal &       tlat &      Rlat &       tiron &     Riron \\\\ \\hline\n",
      "  0.000000 & 18.177000 &   0.000000 & 18.325000 &    0.000000 & 18.425000 \\\\ \\hline\n",
      " 30.865000 & 18.225000 &  43.420000 & 18.375000 &   62.220000 & 18.475000 \\\\ \\hline\n",
      " 73.965000 & 18.275000 &  92.940000 & 18.425000 &  121.005000 & 18.525000 \\\\ \\hline\n",
      "118.585000 & 18.325000 & 145.265000 & 18.475000 &  185.015000 & 18.575000 \\\\ \\hline\n",
      "166.390000 & 18.375000 & 202.180000 & 18.525000 &  253.125000 & 18.625000 \\\\ \\hline\n",
      "214.050000 & 18.425000 & 262.965000 & 18.575000 &  324.680000 & 18.675000 \\\\ \\hline\n",
      "263.970000 & 18.475000 & 320.045000 & 18.625000 &  401.125000 & 18.725000 \\\\ \\hline\n",
      "314.490000 & 18.525000 & 387.825000 & 18.675000 &  482.570000 & 18.775000 \\\\ \\hline\n",
      "367.385000 & 18.575000 & 455.255000 & 18.725000 &  564.470000 & 18.825000 \\\\ \\hline\n",
      "422.030000 & 18.625000 & 531.255000 & 18.775000 &  655.755000 & 18.875000 \\\\ \\hline\n",
      "478.910000 & 18.675000 & 606.945000 & 18.825000 &  746.580000 & 18.925000 \\\\ \\hline\n",
      "536.510000 & 18.725000 & 690.190000 & 18.875000 &  859.310000 & 18.975000 \\\\ \\hline\n",
      "596.395000 & 18.775000 & 749.885000 & 18.925000 &  943.780000 & 19.025000 \\\\ \\hline\n",
      "658.045000 & 18.825000 & 840.605000 & 18.975000 & 1044.535000 & 19.075000 \\\\ \\hline\n",
      "720.930000 & 18.875000 &        NaN &       NaN & 1149.250000 & 19.125000 \\\\ \\hline\n",
      "785.140000 & 18.925000 &        NaN &       NaN & 1210.195000 & 19.175000 \\\\ \\hline\n",
      "851.055000 & 18.975000 &        NaN &       NaN &         NaN & 19.225000 \\\\ \\hline\n",
      "       NaN &       NaN &        NaN &       NaN &         NaN &       NaN \\\\ \\hline\n",
      "       NaN &       NaN &        NaN &       NaN &         NaN &       NaN \\\\ \\hline\n",
      "       NaN &       NaN &        NaN &       NaN &         NaN &       NaN \\\\ \\hline\n",
      "       NaN &       NaN &        NaN &       NaN &         NaN &       NaN \\\\ \\hline\n",
      "       NaN &       NaN &        NaN &       NaN &         NaN &       NaN \\\\ \\hline\n",
      "       NaN &       NaN &        NaN &       NaN &         NaN &       NaN \\\\ \\hline\n",
      "       NaN &       NaN &        NaN &       NaN &         NaN &       NaN \\\\ \\hline\n",
      "       NaN &       NaN &        NaN &       NaN &         NaN &       NaN \\\\ \\hline\n",
      "       NaN &       NaN &        NaN &       NaN &         NaN &       NaN \\\\ \\hline\n",
      "\\end{tabular}\n",
      "\n"
     ]
    },
    {
     "name": "stderr",
     "output_type": "stream",
     "text": [
      "C:\\Users\\Quark\\AppData\\Local\\Temp\\ipykernel_6544\\3442819933.py:2: FutureWarning: In future versions `DataFrame.to_latex` is expected to utilise the base implementation of `Styler.to_latex` for formatting and rendering. The arguments signature may therefore change. It is recommended instead to use `DataFrame.style.to_latex` which also contains additional functionality.\n",
      "  tab = df.to_latex(index=False, float_format='%.6f')\n"
     ]
    }
   ],
   "source": [
    "print(latex_tab(data[['tkal', 'Rkal', 'tlat', 'Rlat', 'tiron', 'Riron']]))"
   ]
  },
  {
   "cell_type": "code",
   "execution_count": 22,
   "id": "005ac505",
   "metadata": {
    "scrolled": true
   },
   "outputs": [
    {
     "data": {
      "image/png": "[encoded data removed]",
      "text/plain": [
       "<Figure size 432x288 with 1 Axes>"
      ]
     },
     "metadata": {
      "needs_background": "light"
     },
     "output_type": "display_data"
    }
   ],
   "source": [
    "scat(data, 'tkal', 'Rkal', 'o', 'g', 'Пустой калориметр')\n",
    "scat(data, 'tlat', 'Rlat', 'x', 'b', 'Латунь')\n",
    "scat(data, 'tiron', 'Riron', '*', 'red', 'Железо')"
   ]
  },
  {
   "cell_type": "code",
   "execution_count": 23,
   "id": "a5652c9d",
   "metadata": {},
   "outputs": [],
   "source": [
    "def deriv(data, tempr, rst, step, t1, take, Rs, fr, end, name):\n",
    "    x, y = read_rel(data, tempr, rst)\n",
    "    x_pol = np.linspace(np.min(x), np.max(x), step) \n",
    "    p = np.polyfit(x, y, 2)\n",
    "    pol = lambda n : p[0] * n**2 + p[1] * n**1 + p[2]\n",
    "    y_pol = pol(x_pol)\n",
    "    x_pol = x\n",
    "    y_pol = y\n",
    "    print(y_pol)\n",
    "    D = np.zeros(len(y_pol) - 1);\n",
    "    for i in range(len(y_pol) - 1):\n",
    "        D[i] = (y_pol[i+1] - y_pol[i]) / (x_pol[i+1] - x_pol[i])\n",
    "        \n",
    "    print(\"D\", D)\n",
    "    plt.plot(y_pol[0:len(x_pol) - 1], D, '*', alpha=1)\n",
    "    plt.plot(y_pol[0:1], D[0:1], 'x', alpha=1, c='r')\n",
    "    #plt.plot(y_pol[14:15], D[14:15], 'x', alpha=1, c='r')\n",
    "    \n",
    "    print(latex_tab(pd.DataFrame(data = {'D' : D, 'R' : y_pol[0:len(y_pol)-1]})))\n",
    "    p = np.polyfit(y_pol[t1:take], D[t1:take],2)\n",
    "    #pol = lambda n : p[0] * n + p[1]\n",
    "    pol = lambda n : p[0] * n**2 + p[1] * n**1 + p[2]\n",
    "\n",
    "    print('p[0] or A = ', p[0])\n",
    "    print('p[1] or B = ', p[1])\n",
    "    print('p[2] or A = ', p[2])\n",
    "\n",
    "    print('Deiff: ', (pol(y_pol[t1:take]) - D[t1:take]))\n",
    "    print('Square error: ', ((pol(y_pol[t1:take]) - D[t1:take])**2).sum())\n",
    "    #mnk(y_pol[t1:take], D[t1:take])\n",
    "    xi = np.linspace(fr, end, 100)\n",
    "    plt.plot(xi, pol(xi), c='k', alpha=0.4)\n",
    "    plt.title(r\"Зависимость производной от сопротивления\")\n",
    "    plt.ylabel(r\"$\\partial R/\\partial t}$, кОм/с\")\n",
    "    plt.xlabel(r\"$R$, кОм\")\n",
    "    \n",
    "    plt.savefig(\"Производные \" + name + \".pdf\", format=\"pdf\")\n",
    "    plt.legend()\n",
    "    plt.show()\n",
    "    \n",
    "    print(pol(Rs))\n",
    "   \n",
    "    return pol(Rs) \n"
   ]
  },
  {
   "cell_type": "code",
   "execution_count": 24,
   "id": "bcd69062",
   "metadata": {
    "scrolled": true
   },
   "outputs": [
    {
     "name": "stderr",
     "output_type": "stream",
     "text": [
      "C:\\Users\\Quark\\AppData\\Local\\Temp\\ipykernel_6544\\3442819933.py:2: FutureWarning: In future versions `DataFrame.to_latex` is expected to utilise the base implementation of `Styler.to_latex` for formatting and rendering. The arguments signature may therefore change. It is recommended instead to use `DataFrame.style.to_latex` which also contains additional functionality.\n",
      "  tab = df.to_latex(index=False, float_format='%.6f')\n",
      "No artists with labels found to put in legend.  Note that artists whose label start with an underscore are ignored when legend() is called with no argument.\n"
     ]
    },
    {
     "name": "stdout",
     "output_type": "stream",
     "text": [
      "0     18.177\n",
      "1     18.225\n",
      "2     18.275\n",
      "3     18.325\n",
      "4     18.375\n",
      "5     18.425\n",
      "6     18.475\n",
      "7     18.525\n",
      "8     18.575\n",
      "9     18.625\n",
      "10    18.675\n",
      "11    18.725\n",
      "12    18.775\n",
      "13    18.825\n",
      "14    18.875\n",
      "15    18.925\n",
      "16    18.975\n",
      "Name: Rkal, dtype: float64\n",
      "D [0.00155516 0.00116009 0.00112057 0.00104592 0.0010491  0.0010016\n",
      " 0.00098971 0.00094527 0.000915   0.00087904 0.00086806 0.00083493\n",
      " 0.00081103 0.0007951  0.00077869 0.00075855]\n",
      "\\begin{tabular}{rr}\n",
      "\\hline\n",
      "       D &         R \\\\ \\hline\n",
      "0.001555 & 18.177000 \\\\ \\hline\n",
      "0.001160 & 18.225000 \\\\ \\hline\n",
      "0.001121 & 18.275000 \\\\ \\hline\n",
      "0.001046 & 18.325000 \\\\ \\hline\n",
      "0.001049 & 18.375000 \\\\ \\hline\n",
      "0.001002 & 18.425000 \\\\ \\hline\n",
      "0.000990 & 18.475000 \\\\ \\hline\n",
      "0.000945 & 18.525000 \\\\ \\hline\n",
      "0.000915 & 18.575000 \\\\ \\hline\n",
      "0.000879 & 18.625000 \\\\ \\hline\n",
      "0.000868 & 18.675000 \\\\ \\hline\n",
      "0.000835 & 18.725000 \\\\ \\hline\n",
      "0.000811 & 18.775000 \\\\ \\hline\n",
      "0.000795 & 18.825000 \\\\ \\hline\n",
      "0.000779 & 18.875000 \\\\ \\hline\n",
      "0.000759 & 18.925000 \\\\ \\hline\n",
      "\\end{tabular}\n",
      "\n",
      "p[0] or A =  0.0003126339645503751\n",
      "p[1] or B =  -0.01218354054087677\n",
      "p[2] or A =  0.11935557159704614\n",
      "Deiff:  1    -7.980846e-06\n",
      "2    -7.081814e-06\n",
      "3     3.051935e-05\n",
      "4    -8.156430e-06\n",
      "5     5.408249e-06\n",
      "6    -1.506360e-05\n",
      "7    -1.429671e-06\n",
      "8    -3.985622e-07\n",
      "9     7.876782e-06\n",
      "10   -7.249856e-06\n",
      "11    1.320563e-06\n",
      "12    2.235834e-06\n",
      "Name: Rkal, dtype: float64\n",
      "Square error:  1.4915148243880754e-09\n"
     ]
    },
    {
     "data": {
      "image/png": "[encoded data removed]",
      "text/plain": [
       "<Figure size 432x288 with 1 Axes>"
      ]
     },
     "metadata": {
      "needs_background": "light"
     },
     "output_type": "display_data"
    },
    {
     "name": "stdout",
     "output_type": "stream",
     "text": [
      "0.0011906578314409971\n"
     ]
    },
    {
     "data": {
      "text/plain": [
       "650.0292870664839"
      ]
     },
     "execution_count": 24,
     "metadata": {},
     "output_type": "execute_result"
    }
   ],
   "source": [
    "C0 = C(deriv(data, 'tkal', 'Rkal', 15, 1, 13, 18.177, 18.177, 19, 'калориметр'), 18.177)\n",
    "C0\n",
    "#2.306829289271642e-09 linear\n",
    "#1.4915148243880754e-09 square\n",
    "\n"
   ]
  },
  {
   "cell_type": "code",
   "execution_count": 26,
   "id": "f24f2d19",
   "metadata": {
    "scrolled": true
   },
   "outputs": [
    {
     "name": "stderr",
     "output_type": "stream",
     "text": [
      "C:\\Users\\Quark\\AppData\\Local\\Temp\\ipykernel_6544\\3442819933.py:2: FutureWarning: In future versions `DataFrame.to_latex` is expected to utilise the base implementation of `Styler.to_latex` for formatting and rendering. The arguments signature may therefore change. It is recommended instead to use `DataFrame.style.to_latex` which also contains additional functionality.\n",
      "  tab = df.to_latex(index=False, float_format='%.6f')\n",
      "No artists with labels found to put in legend.  Note that artists whose label start with an underscore are ignored when legend() is called with no argument.\n"
     ]
    },
    {
     "name": "stdout",
     "output_type": "stream",
     "text": [
      "0     18.425\n",
      "1     18.475\n",
      "2     18.525\n",
      "3     18.575\n",
      "4     18.625\n",
      "5     18.675\n",
      "6     18.725\n",
      "7     18.775\n",
      "8     18.825\n",
      "9     18.875\n",
      "10    18.925\n",
      "11    18.975\n",
      "12    19.025\n",
      "13    19.075\n",
      "14    19.125\n",
      "15    19.175\n",
      "Name: Riron, dtype: float64\n",
      "D [0.0008036  0.00085056 0.00078113 0.00073411 0.00069876 0.00065407\n",
      " 0.00061391 0.0006105  0.00054774 0.00055051 0.00044354 0.00059193\n",
      " 0.00049625 0.00047749 0.00082041]\n",
      "\\begin{tabular}{rr}\n",
      "\\hline\n",
      "       D &         R \\\\ \\hline\n",
      "0.000804 & 18.425000 \\\\ \\hline\n",
      "0.000851 & 18.475000 \\\\ \\hline\n",
      "0.000781 & 18.525000 \\\\ \\hline\n",
      "0.000734 & 18.575000 \\\\ \\hline\n",
      "0.000699 & 18.625000 \\\\ \\hline\n",
      "0.000654 & 18.675000 \\\\ \\hline\n",
      "0.000614 & 18.725000 \\\\ \\hline\n",
      "0.000611 & 18.775000 \\\\ \\hline\n",
      "0.000548 & 18.825000 \\\\ \\hline\n",
      "0.000551 & 18.875000 \\\\ \\hline\n",
      "0.000444 & 18.925000 \\\\ \\hline\n",
      "0.000592 & 18.975000 \\\\ \\hline\n",
      "0.000496 & 19.025000 \\\\ \\hline\n",
      "0.000477 & 19.075000 \\\\ \\hline\n",
      "0.000820 & 19.125000 \\\\ \\hline\n",
      "\\end{tabular}\n",
      "\n",
      "p[0] or A =  0.0005544948132494928\n",
      "p[1] or B =  -0.021362227506727272\n",
      "p[2] or A =  0.20621209088386988\n",
      "Deiff:  0     4.969471e-05\n",
      "1    -4.233073e-05\n",
      "2    -1.519753e-05\n",
      "3    -7.699671e-06\n",
      "4    -9.107291e-06\n",
      "5     1.612336e-06\n",
      "6     1.056005e-05\n",
      "7    -1.446294e-05\n",
      "8     2.264143e-05\n",
      "9    -3.021325e-06\n",
      "10    8.383406e-05\n",
      "11   -8.189811e-05\n",
      "12   -7.965044e-07\n",
      "13    6.171516e-06\n",
      "Name: Riron, dtype: float64\n",
      "Square error:  1.925387330826179e-08\n"
     ]
    },
    {
     "data": {
      "image/png": "[encoded data removed]",
      "text/plain": [
       "<Figure size 432x288 with 1 Axes>"
      ]
     },
     "metadata": {
      "needs_background": "light"
     },
     "output_type": "display_data"
    },
    {
     "name": "stdout",
     "output_type": "stream",
     "text": [
      "0.0008532948336159862\n",
      "919.4033254200344\n"
     ]
    },
    {
     "data": {
      "text/plain": [
       "269.37403835355053"
      ]
     },
     "execution_count": 26,
     "metadata": {},
     "output_type": "execute_result"
    }
   ],
   "source": [
    "C1 = C(deriv(data, 'tiron', 'Riron', 15, 0, 14, 18.425, 18.425, 19.1, 'железо'), 18.425)\n",
    "\n",
    "#2.484972717052059e-08 linear\n",
    "#1.925387330826179e-08 squared\n",
    "print(C1)\n",
    "(C1 - C0) #/ ((0.8151)) \n"
   ]
  },
  {
   "cell_type": "code",
   "execution_count": 27,
   "id": "54a3256e",
   "metadata": {},
   "outputs": [
    {
     "data": {
      "text/plain": [
       "4.0112236058878725"
      ]
     },
     "execution_count": 27,
     "metadata": {},
     "output_type": "execute_result"
    }
   ],
   "source": [
    "1.925387330826179e-08/((15 - 3) * (0.00002**2))"
   ]
  },
  {
   "cell_type": "code",
   "execution_count": 28,
   "id": "8ee27dc9",
   "metadata": {
    "scrolled": true
   },
   "outputs": [
    {
     "name": "stdout",
     "output_type": "stream",
     "text": [
      "0     18.325\n",
      "1     18.375\n",
      "2     18.425\n",
      "3     18.475\n",
      "4     18.525\n",
      "5     18.575\n",
      "6     18.625\n",
      "7     18.675\n",
      "8     18.725\n",
      "9     18.775\n",
      "10    18.825\n",
      "11    18.875\n",
      "12    18.925\n",
      "13    18.975\n",
      "Name: Rlat, dtype: float64\n",
      "D [0.00115154 0.00100969 0.00095557 0.0008785  0.00082257 0.00087596\n",
      " 0.00073768 0.00074151 0.00065789 0.00066059 0.00060064 0.00083759\n",
      " 0.00055115]\n"
     ]
    },
    {
     "name": "stderr",
     "output_type": "stream",
     "text": [
      "C:\\Users\\Quark\\AppData\\Local\\Temp\\ipykernel_6544\\3442819933.py:2: FutureWarning: In future versions `DataFrame.to_latex` is expected to utilise the base implementation of `Styler.to_latex` for formatting and rendering. The arguments signature may therefore change. It is recommended instead to use `DataFrame.style.to_latex` which also contains additional functionality.\n",
      "  tab = df.to_latex(index=False, float_format='%.6f')\n",
      "No artists with labels found to put in legend.  Note that artists whose label start with an underscore are ignored when legend() is called with no argument.\n"
     ]
    },
    {
     "name": "stdout",
     "output_type": "stream",
     "text": [
      "\\begin{tabular}{rr}\n",
      "\\hline\n",
      "       D &         R \\\\ \\hline\n",
      "0.001152 & 18.325000 \\\\ \\hline\n",
      "0.001010 & 18.375000 \\\\ \\hline\n",
      "0.000956 & 18.425000 \\\\ \\hline\n",
      "0.000879 & 18.475000 \\\\ \\hline\n",
      "0.000823 & 18.525000 \\\\ \\hline\n",
      "0.000876 & 18.575000 \\\\ \\hline\n",
      "0.000738 & 18.625000 \\\\ \\hline\n",
      "0.000742 & 18.675000 \\\\ \\hline\n",
      "0.000658 & 18.725000 \\\\ \\hline\n",
      "0.000661 & 18.775000 \\\\ \\hline\n",
      "0.000601 & 18.825000 \\\\ \\hline\n",
      "0.000838 & 18.875000 \\\\ \\hline\n",
      "0.000551 & 18.925000 \\\\ \\hline\n",
      "\\end{tabular}\n",
      "\n",
      "p[0] or A =  0.001062681516698927\n",
      "p[1] or B =  -0.040302442900838155\n",
      "p[2] or A =  0.38276172966633154\n",
      "Deiff:  2    -0.000007\n",
      "3     0.000016\n",
      "4     0.000023\n",
      "5    -0.000074\n",
      "6     0.000025\n",
      "7    -0.000012\n",
      "8     0.000044\n",
      "9     0.000019\n",
      "10    0.000061\n",
      "11   -0.000188\n",
      "12    0.000092\n",
      "Name: Rlat, dtype: float64\n",
      "Square error:  5.687273601516616e-08\n"
     ]
    },
    {
     "data": {
      "image/png": "[encoded data removed]",
      "text/plain": [
       "<Figure size 432x288 with 1 Axes>"
      ]
     },
     "metadata": {
      "needs_background": "light"
     },
     "output_type": "display_data"
    },
    {
     "name": "stdout",
     "output_type": "stream",
     "text": [
      "0.0010087928376040778\n",
      "775.5736534621219\n"
     ]
    },
    {
     "data": {
      "text/plain": [
       "125.54436639563801"
      ]
     },
     "execution_count": 28,
     "metadata": {},
     "output_type": "execute_result"
    }
   ],
   "source": [
    "C1 =  C(deriv(data, 'tlat', 'Rlat', 14, 2, 13, 18.375, 18.3, 18.95, 'латунь'), 18.375)\n",
    "print(C1)\n",
    "(C1 - C0) #/ (0.8751) "
   ]
  },
  {
   "cell_type": "code",
   "execution_count": 29,
   "id": "a4ab8c56",
   "metadata": {},
   "outputs": [],
   "source": [
    "def mnk(x, y):\n",
    "    sx = (x**2).mean() - (x.mean())**2\n",
    "    print('Sx = ', sx)\n",
    "    sy = (y**2).mean() - (y.mean())**2\n",
    "    print('Sy = ', sy)\n",
    "    rxy = (y*x).mean() - (y.mean() * x.mean())\n",
    "    print('Rxy = ', rxy)\n",
    "    a = rxy / sx\n",
    "    print('A = ', a)\n",
    "    da = (1/(len(x) - 2) * (sy/sx - a**2))**(0.5)\n",
    "    print('delta A = ', da)\n",
    "    print('Ym = ', y.mean())\n",
    "    print('Xm = ', x.mean())\n",
    "    b = y.mean() - a * x.mean()\n",
    "    print('B = ', b)\n",
    "    db = da*(sx + (x.mean())**2)**(1/2)\n",
    "    print('delta B = ', db)\n",
    "    "
   ]
  },
  {
   "cell_type": "code",
   "execution_count": 30,
   "id": "9448c2d3",
   "metadata": {},
   "outputs": [
    {
     "name": "stdout",
     "output_type": "stream",
     "text": [
      "Sx =  69452.13509256055\n",
      "Sy =  0.059906103806213196\n",
      "Rxy =  64.34337826989577\n",
      "A =  0.0009264420479535119\n",
      "delta A =  1.6847359721351322e-05\n",
      "Ym =  18.575117647058825\n",
      "Xm =  388.15970588235297\n",
      "B =  18.215510174208145\n",
      "delta B =  0.007904268640871662\n"
     ]
    }
   ],
   "source": [
    "x, y = read_rel(data, 'tkal', 'Rkal')\n",
    "mnk(x, y)\n"
   ]
  },
  {
   "cell_type": "code",
   "execution_count": 31,
   "id": "cf41d7f4",
   "metadata": {},
   "outputs": [],
   "source": [
    "al = 4.28*10**(-3)\n",
    "T = 22\n",
    "r  = 18.2\n",
    "p = 10.8"
   ]
  },
  {
   "cell_type": "code",
   "execution_count": 32,
   "id": "5939e8d1",
   "metadata": {},
   "outputs": [],
   "source": [
    "dr = 0.001076"
   ]
  },
  {
   "cell_type": "code",
   "execution_count": 33,
   "id": "6f92e66a",
   "metadata": {},
   "outputs": [
    {
     "data": {
      "text/plain": [
       "714.5716916006659"
      ]
     },
     "execution_count": 33,
     "metadata": {},
     "output_type": "execute_result"
    }
   ],
   "source": [
    "(p*r*al)/(dr*(1+al*T))"
   ]
  },
  {
   "cell_type": "code",
   "execution_count": 51,
   "id": "efb942ca",
   "metadata": {
    "scrolled": true
   },
   "outputs": [
    {
     "ename": "IndentationError",
     "evalue": "expected an indented block after function definition on line 1 (1603329341.py, line 3)",
     "output_type": "error",
     "traceback": [
      "\u001b[1;36m  Input \u001b[1;32mIn [51]\u001b[1;36m\u001b[0m\n\u001b[1;33m    \u001b[0m\n\u001b[1;37m    ^\u001b[0m\n\u001b[1;31mIndentationError\u001b[0m\u001b[1;31m:\u001b[0m expected an indented block after function definition on line 1\n"
     ]
    }
   ],
   "source": [
    "def chisquare():\n",
    "    \n",
    "    "
   ]
  },
  {
   "cell_type": "code",
   "execution_count": 52,
   "id": "8ec224ab",
   "metadata": {},
   "outputs": [],
   "source": [
    "X = np.array([0, 1, 2, 3, 4, 5])\n",
    "Y = np.array([1.9, 3.1, 4, 5, 6, 7.2])"
   ]
  },
  {
   "cell_type": "code",
   "execution_count": 53,
   "id": "811b31a2",
   "metadata": {
    "scrolled": true
   },
   "outputs": [
    {
     "name": "stdout",
     "output_type": "stream",
     "text": [
      "k =  1.034285714285714\n",
      "b =  1.947619047619046\n"
     ]
    },
    {
     "data": {
      "text/plain": [
       "[<matplotlib.lines.Line2D at 0x22dab8d86a0>]"
      ]
     },
     "execution_count": 53,
     "metadata": {},
     "output_type": "execute_result"
    },
    {
     "data": {
      "image/png": "[encoded data removed]",
      "text/plain": [
       "<Figure size 432x288 with 1 Axes>"
      ]
     },
     "metadata": {
      "needs_background": "light"
     },
     "output_type": "display_data"
    }
   ],
   "source": [
    "plt.scatter(X, Y)\n",
    "k, b = np.polyfit(X, Y, 1)\n",
    "t = np.linspace(X.min(), X.max())\n",
    "np_appr = lambda t: k * t + b\n",
    "\n",
    "print('k = ', k)\n",
    "print('b = ', b)\n",
    "\n",
    "plt.plot(t, np_appr(t))"
   ]
  },
  {
   "cell_type": "code",
   "execution_count": 54,
   "id": "760a3dc2",
   "metadata": {},
   "outputs": [],
   "source": [
    "def chi(x, X, Y):\n",
    "    lin = lambda y: x[0]*y + x[1]\n",
    "    return ((lin(X) - Y)**2).sum()\n",
    "\n"
   ]
  },
  {
   "cell_type": "code",
   "execution_count": 55,
   "id": "4511f2de",
   "metadata": {},
   "outputs": [],
   "source": [
    "import scipy.optimize as op"
   ]
  },
  {
   "cell_type": "code",
   "execution_count": 56,
   "id": "efa7f7e7",
   "metadata": {
    "scrolled": true
   },
   "outputs": [
    {
     "data": {
      "text/plain": [
       "      fun: 0.012500000000005913\n",
       " hess_inv: array([[ 0.03572187, -0.10716592],\n",
       "       [-0.10716592,  0.44649872]])\n",
       "      jac: array([5.82076609e-10, 1.16415322e-10])\n",
       "  message: 'Optimization terminated successfully.'\n",
       "     nfev: 24\n",
       "      nit: 7\n",
       "     njev: 8\n",
       "   status: 0\n",
       "  success: True\n",
       "        x: array([1.04999998, 1.87500005])"
      ]
     },
     "execution_count": 56,
     "metadata": {},
     "output_type": "execute_result"
    },
    {
     "data": {
      "image/png": "[encoded data removed]",
      "text/plain": [
       "<Figure size 432x288 with 1 Axes>"
      ]
     },
     "metadata": {
      "needs_background": "light"
     },
     "output_type": "display_data"
    }
   ],
   "source": [
    "ignore = (1, 2, 1)\n",
    "plt.scatter(np.take(X, ignore), np.take(Y, ignore), c='r', s=50, marker='x')\n",
    "plt.scatter(np.delete(X, ignore), np.delete(Y, ignore), c='b', s=10, marker='o')\n",
    "op.minimize(chi, [2, 2], (np.delete(X, ignore), np.delete(Y, ignore)))"
   ]
  },
  {
   "cell_type": "code",
   "execution_count": null,
   "id": "937b6f07",
   "metadata": {},
   "outputs": [],
   "source": []
  },
  {
   "cell_type": "code",
   "execution_count": 57,
   "id": "31ae03e9",
   "metadata": {},
   "outputs": [],
   "source": [
    "arr = np.array([0, 1, 2, 3, 4, 5, 6])"
   ]
  },
  {
   "cell_type": "code",
   "execution_count": 58,
   "id": "582f4c2c",
   "metadata": {
    "scrolled": true
   },
   "outputs": [
    {
     "data": {
      "text/plain": [
       "array([1, 4, 6])"
      ]
     },
     "execution_count": 58,
     "metadata": {},
     "output_type": "execute_result"
    }
   ],
   "source": [
    "np.delete(arr, (0, 2, 3, 5))"
   ]
  },
  {
   "cell_type": "code",
   "execution_count": 59,
   "id": "718090dc",
   "metadata": {},
   "outputs": [
    {
     "data": {
      "text/plain": [
       "array([0, 1, 2, 3, 4, 5, 6])"
      ]
     },
     "execution_count": 59,
     "metadata": {},
     "output_type": "execute_result"
    }
   ],
   "source": [
    "arr"
   ]
  },
  {
   "cell_type": "code",
   "execution_count": 523,
   "id": "fb3c91ef",
   "metadata": {},
   "outputs": [],
   "source": [
    "R = np.array(data[['Riron', 'tiron']].dropna()['Riron'])\n",
    "T = np.array(data[['Riron', 'tiron']].dropna()['tiron'])\n",
    "\n",
    "#R = np.array(data[['Rlat', 'tlat']].dropna()['Rlat'])\n",
    "#T = np.array(data[['Rlat', 'tlat']].dropna()['tlat'])\n",
    "\n",
    "#R = np.array(data[['Rkal', 'tkal']].dropna()['Rkal'])\n",
    "#T = np.array(data[['Rkal', 'tkal']].dropna()['tkal'])"
   ]
  },
  {
   "cell_type": "code",
   "execution_count": 524,
   "id": "c8afdbf0",
   "metadata": {
    "scrolled": true
   },
   "outputs": [
    {
     "data": {
      "text/plain": [
       "array([18.425, 18.475, 18.525, 18.575, 18.625, 18.675, 18.725, 18.775,\n",
       "       18.825, 18.875, 18.925, 18.975, 19.025, 19.075, 19.125, 19.175])"
      ]
     },
     "execution_count": 524,
     "metadata": {},
     "output_type": "execute_result"
    },
    {
     "data": {
      "image/png": "[encoded data removed]",
      "text/plain": [
       "<Figure size 432x288 with 1 Axes>"
      ]
     },
     "metadata": {
      "needs_background": "light"
     },
     "output_type": "display_data"
    }
   ],
   "source": [
    "plt.scatter(T, R)\n",
    "R"
   ]
  },
  {
   "cell_type": "code",
   "execution_count": 537,
   "id": "854cb439",
   "metadata": {
    "scrolled": true
   },
   "outputs": [
    {
     "name": "stderr",
     "output_type": "stream",
     "text": [
      "No artists with labels found to put in legend.  Note that artists whose label start with an underscore are ignored when legend() is called with no argument.\n"
     ]
    },
    {
     "name": "stdout",
     "output_type": "stream",
     "text": [
      "\\begin{tabular}{|c|c|c|c|c|c|c|c|}\n",
      "dRdT & R \\\\ \\hline\n",
      "0.000804 & 18.425000 \\\\ \\hline\n",
      "0.000851 & 18.475000 \\\\ \\hline\n",
      "0.000781 & 18.525000 \\\\ \\hline\n",
      "0.000734 & 18.575000 \\\\ \\hline\n",
      "0.000699 & 18.625000 \\\\ \\hline\n",
      "0.000654 & 18.675000 \\\\ \\hline\n",
      "0.000614 & 18.725000 \\\\ \\hline\n",
      "0.000611 & 18.775000 \\\\ \\hline\n",
      "0.000548 & 18.825000 \\\\ \\hline\n",
      "0.000551 & 18.875000 \\\\ \\hline\n",
      "0.000444 & 18.925000 \\\\ \\hline\n",
      "0.000592 & 18.975000 \\\\ \\hline\n",
      "0.000496 & 19.025000 \\\\ \\hline\n",
      "0.000477 & 19.075000 \\\\ \\hline\n",
      "0.000820 & 19.125000 \\\\ \\hline\n",
      "\\end{tabular}\n",
      "\n"
     ]
    },
    {
     "data": {
      "image/png": "[encoded data removed]",
      "text/plain": [
       "<Figure size 432x288 with 1 Axes>"
      ]
     },
     "metadata": {
      "needs_background": "light"
     },
     "output_type": "display_data"
    }
   ],
   "source": [
    "dRdT = (np.delete(np.roll(R, -1), R.size - 1) - np.delete(R, R.size - 1)) \\\n",
    "     / (np.delete(np.roll(T, -1), T.size - 1) - np.delete(T, T.size - 1)) \n",
    "\n",
    "       \n",
    "ignore = (10, 11, 14)\n",
    "# kal ignore = (0)\n",
    "\n",
    "#ignore = (0, 5, 11)\n",
    "X = np.resize(R, dRdT.size)\n",
    "Y = dRdT\n",
    "\n",
    "latex = pd.DataFrame({'dRdT' : Y, 'R' : X}).style.hide(level=0, axis=0).to_latex(column_format=\"|c\" * 8 + \"|\").replace(\"\\\\\\n\", \"\\\\ \\hline\\n\")\n",
    "print(latex)\n",
    "\n",
    "\n",
    "t = np.linspace(X.min(), X.max())\n",
    "if approx:\n",
    "    plt.plot(t, approx(t))\n",
    "    \n",
    "plt.scatter(X, Y, s=20, marker='o')\n",
    "plt.scatter(np.take(X, ignore), np.take(Y, ignore), s=70, marker='x', c='r')\n",
    "plt.title(r\"Зависимость производной от сопротивления\")\n",
    "plt.ylabel(r\"$\\partial R/\\partial t}$, кОм/с\")\n",
    "plt.xlabel(r\"$R$, кОм\")\n",
    "plt.legend()\n",
    "#plt.savefig('Производные калориметр.pdf')\n",
    "#plt.savefig('Производные латунь.pdf')\n",
    "plt.savefig('Производные железо.pdf')\n",
    "X = np.delete(X, ignore)\n",
    "Y = np.delete(Y, ignore)"
   ]
  },
  {
   "cell_type": "code",
   "execution_count": 531,
   "id": "98f61f72",
   "metadata": {
    "scrolled": false
   },
   "outputs": [
    {
     "data": {
      "text/plain": [
       "'p[0] or A =  0.0005544948132494928\\np[1] or B =  -0.021362227506727272\\np[2] or A =  0.20621209088386988'"
      ]
     },
     "execution_count": 531,
     "metadata": {},
     "output_type": "execute_result"
    }
   ],
   "source": [
    "pol = lambda x, t: x[0] * t**2 + x[1] * t + x[2]\n",
    "E = np.full(X.size, 0.00005)\n",
    "\n",
    "def chi(x, func, X, Y, E = np.full(X.size, 1)):\n",
    "    return (((func(x, X) - Y)**2)/(E**2)).sum()\n",
    "\n",
    "'''p[0] or A =  0.0005544948132494928\n",
    "p[1] or B =  -0.021362227506727272\n",
    "p[2] or A =  0.20621209088386988'''\n"
   ]
  },
  {
   "cell_type": "code",
   "execution_count": 532,
   "id": "a7ec0d80",
   "metadata": {
    "scrolled": true
   },
   "outputs": [
    {
     "data": {
      "text/plain": [
       "     fun: 5.524458725871083e-09\n",
       "     jac: array([-1.4016599 , -0.07598047, -0.00406214])\n",
       " message: 'Optimization terminated successfully'\n",
       "    nfev: 12\n",
       "     nit: 1\n",
       "    njev: 1\n",
       "  status: 0\n",
       " success: True\n",
       "       x: array([ 0.00055448, -0.02136197,  0.20621209])"
      ]
     },
     "execution_count": 532,
     "metadata": {},
     "output_type": "execute_result"
    }
   ],
   "source": [
    " stat = op.minimize(chi, [0.000554, -0.021362, 0.20621209], (pol, X, Y), method='SLSQP')\n",
    "# kal stat = op.minimize(chi, [0.00031263, -0.01218, 0.1193555], (pol, X, Y), method='SLSQP')\n",
    "#stat = op.minimize(chi, [0.004062, -0.040302, 0.382761729], (pol, X, Y), method='Powell')\n",
    "stat\n",
    "#[0.000554, -0.021362, 0.20621209]\n"
   ]
  },
  {
   "cell_type": "code",
   "execution_count": 533,
   "id": "b8a17dbd",
   "metadata": {},
   "outputs": [
    {
     "data": {
      "text/plain": [
       "array([ 0.00055448, -0.02136197,  0.20621209])"
      ]
     },
     "execution_count": 533,
     "metadata": {},
     "output_type": "execute_result"
    }
   ],
   "source": [
    "best = stat.x\n",
    "best"
   ]
  },
  {
   "cell_type": "code",
   "execution_count": 534,
   "id": "91b34c92",
   "metadata": {},
   "outputs": [
    {
     "data": {
      "text/plain": [
       "1.4985150323433545"
      ]
     },
     "execution_count": 534,
     "metadata": {},
     "output_type": "execute_result"
    }
   ],
   "source": [
    "3.746287580858386e-09/(0.00005**2)"
   ]
  },
  {
   "cell_type": "code",
   "execution_count": 535,
   "id": "d05ede1a",
   "metadata": {},
   "outputs": [],
   "source": [
    "approx = lambda t: best[0] * t**2 + best[1] * t + best[2]"
   ]
  },
  {
   "cell_type": "code",
   "execution_count": 536,
   "id": "843ff2d3",
   "metadata": {},
   "outputs": [
    {
     "data": {
      "text/plain": [
       "0.0008076114467188977"
      ]
     },
     "execution_count": 536,
     "metadata": {},
     "output_type": "execute_result"
    }
   ],
   "source": [
    "curr = approx(18.475)\n",
    "curr"
   ]
  },
  {
   "cell_type": "code",
   "execution_count": 505,
   "id": "c44e016b",
   "metadata": {
    "scrolled": true
   },
   "outputs": [
    {
     "data": {
      "text/plain": [
       "array([1.58112071e-05])"
      ]
     },
     "execution_count": 505,
     "metadata": {},
     "output_type": "execute_result"
    }
   ],
   "source": [
    "def equ(x):\n",
    "    return [(chi(best + [0, 0, x[0]], pol, X, Y) - chi(best, pol, X, Y))/0.00005**2 - 1]\n",
    "\n",
    "\n",
    "#[0] = 2.71730246e-08\n",
    "#[1] = 5.09687906e-07\n",
    "#[2] = 9.55752386e-06\n",
    "\n",
    "#[0] = 4.36039476e-08\n",
    "#[1] = 8.17273772e-07\n",
    "#[2] = 1.53142185e-05\n",
    "roots = op.fsolve(equ, 1)\n",
    "\n",
    "#np.isclose(equ(roots), [0.0])  # func(root) should be almost 0.0.\n",
    "#(chi(best + np.array([0, 0, roots[0]]), pol, X, Y) - chi(best, pol, X, Y))/0.0003**2 - 1\n",
    "#[(chi(best + 2.57283219e-08, pol, X, Y) - chi(best, pol, X, Y))/0.00003**2 - 1]\n",
    "#[(chi(best + np.array([2.71730246e-08, 0, 0]), pol, X, Y) - chi(best, pol, X, Y))/0.00003**2 - 1]\n",
    "roots\n",
    "\n"
   ]
  },
  {
   "cell_type": "markdown",
   "id": "e3352882",
   "metadata": {},
   "source": [
    "Iron"
   ]
  },
  {
   "cell_type": "code",
   "execution_count": 506,
   "id": "1c0f67f8",
   "metadata": {},
   "outputs": [],
   "source": [
    "#ie = [1.23505825e-06, 2.31700776e-05, 0.00043453]\n",
    "#ie = [2.71730246e-08, 5.09687906e-07, 9.55752386e-06]\n",
    "\n",
    "ie = [4.36039476e-08, 8.17273772e-07, 1.53142185e-05]\n",
    "ke = [4.09267575e-08, 7.59002858e-07, 1.4072166e-05]\n",
    "le = [4.55188917e-08, 8.48451393e-07, 1.58112071e-05]"
   ]
  },
  {
   "cell_type": "code",
   "execution_count": 507,
   "id": "50877b7f",
   "metadata": {},
   "outputs": [],
   "source": [
    "def error(err, w):\n",
    "    return ((err[0]*w**2)**2 + (err[1]*w)**2 + (err[2])**2)**0.5"
   ]
  },
  {
   "cell_type": "code",
   "execution_count": 511,
   "id": "411583b2",
   "metadata": {
    "scrolled": true
   },
   "outputs": [
    {
     "data": {
      "text/plain": [
       "2.4285825368097e-05"
      ]
     },
     "execution_count": 511,
     "metadata": {},
     "output_type": "execute_result"
    }
   ],
   "source": [
    "error(ke, 18.475)/ "
   ]
  },
  {
   "cell_type": "code",
   "execution_count": 515,
   "id": "204e2a27",
   "metadata": {
    "scrolled": true
   },
   "outputs": [
    {
     "data": {
      "text/plain": [
       "883.6790255375535"
      ]
     },
     "execution_count": 515,
     "metadata": {},
     "output_type": "execute_result"
    }
   ],
   "source": [
    "(C(0.0008902, 18.475))"
   ]
  },
  {
   "cell_type": "code",
   "execution_count": 510,
   "id": "ded4e6a1",
   "metadata": {},
   "outputs": [
    {
     "data": {
      "text/plain": [
       "0.0008902895580056858"
      ]
     },
     "execution_count": 510,
     "metadata": {},
     "output_type": "execute_result"
    }
   ],
   "source": [
    "curr"
   ]
  },
  {
   "cell_type": "code",
   "execution_count": 521,
   "id": "767f7874",
   "metadata": {},
   "outputs": [
    {
     "data": {
      "text/plain": [
       "13.5"
      ]
     },
     "execution_count": 521,
     "metadata": {},
     "output_type": "execute_result"
    }
   ],
   "source": [
    "270*0.05"
   ]
  },
  {
   "cell_type": "code",
   "execution_count": 291,
   "id": "39fc86e3",
   "metadata": {},
   "outputs": [
    {
     "data": {
      "text/plain": [
       "20.400000000000002"
      ]
     },
     "execution_count": 291,
     "metadata": {},
     "output_type": "execute_result"
    }
   ],
   "source": [
    "408*0.05"
   ]
  },
  {
   "cell_type": "code",
   "execution_count": 362,
   "id": "83383a69",
   "metadata": {},
   "outputs": [
    {
     "data": {
      "text/plain": [
       "0.0033333333333333335"
      ]
     },
     "execution_count": 362,
     "metadata": {},
     "output_type": "execute_result"
    }
   ],
   "source": [
    "2/600"
   ]
  },
  {
   "cell_type": "code",
   "execution_count": 518,
   "id": "089294c6",
   "metadata": {},
   "outputs": [
    {
     "data": {
      "text/plain": [
       "235"
      ]
     },
     "execution_count": 518,
     "metadata": {},
     "output_type": "execute_result"
    }
   ],
   "source": [
    "884-649"
   ]
  },
  {
   "cell_type": "code",
   "execution_count": 519,
   "id": "6dab73fb",
   "metadata": {},
   "outputs": [
    {
     "data": {
      "text/plain": [
       "270.11494252873564"
      ]
     },
     "execution_count": 519,
     "metadata": {},
     "output_type": "execute_result"
    }
   ],
   "source": [
    "235/0.87"
   ]
  },
  {
   "cell_type": "code",
   "execution_count": null,
   "id": "bd43abe4",
   "metadata": {},
   "outputs": [],
   "source": []
  }
 ],
 "metadata": {
  "kernelspec": {
   "display_name": "Python 3 (ipykernel)",
   "language": "python",
   "name": "python3"
  },
  "language_info": {
   "codemirror_mode": {
    "name": "ipython",
    "version": 3
   },
   "file_extension": ".py",
   "mimetype": "text/x-python",
   "name": "python",
   "nbconvert_exporter": "python",
   "pygments_lexer": "ipython3",
   "version": "3.10.2"
  }
 },
 "nbformat": 4,
 "nbformat_minor": 5
}
