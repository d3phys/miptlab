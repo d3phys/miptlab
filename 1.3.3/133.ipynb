{
 "cells": [
  {
   "cell_type": "code",
   "execution_count": 38,
   "id": "0e52d04a",
   "metadata": {},
   "outputs": [],
   "source": [
    "import numpy             as np\n",
    "import scipy             as sp\n",
    "import pandas            as pd\n",
    "import scipy.optimize    as op\n",
    "import matplotlib.pyplot as plt\n",
    "\n",
    "import io\n",
    "from scipy.interpolate import UnivariateSpline"
   ]
  },
  {
   "cell_type": "code",
   "execution_count": 219,
   "id": "a36bb6d2",
   "metadata": {},
   "outputs": [],
   "source": [
    "from IPython.core.interactiveshell import InteractiveShell\n",
    "InteractiveShell.ast_node_interactivity = \"last_expr\""
   ]
  },
  {
   "cell_type": "code",
   "execution_count": 220,
   "id": "3bd5531c",
   "metadata": {},
   "outputs": [],
   "source": [
    "def save_table(df, name, fmt = {}):\n",
    "    latex = df.style.hide(level=0, axis=0).format(fmt).to_latex()\n",
    "    with open(name, 'w') as file:\n",
    "        file.write('\\n'.join(latex.splitlines()[2:-1])[:-2])"
   ]
  },
  {
   "cell_type": "code",
   "execution_count": 236,
   "id": "86036758",
   "metadata": {},
   "outputs": [],
   "source": [
    "mnk_fmt = {\n",
    "        '$\\overline{x}$' : \"{:.2e}\",\n",
    "        '$\\sigma_x^2$'   : \"{:.2e}\",\n",
    "        '$\\overline{y}$' : \"{:.2f}\",\n",
    "        '$\\sigma_y^2$'   : \"{:.2e}\",\n",
    "        '$r_{xy}$'       : \"{:.2e}\",\n",
    "        '$a$'            : \"{:.2f}\",\n",
    "        '$\\Delta a$'     : \"{:.2f}\",\n",
    "        '$b$'            : \"{:.2f}\",\n",
    "        '$\\Delta b$'     : \"{:.2f}\",\n",
    "}\n",
    "\n",
    "def mnk(x, y):\n",
    "    sx = (x**2).mean() - (x.mean())**2\n",
    "    sy = (y**2).mean() - (y.mean())**2\n",
    "    rxy = (y*x).mean() - (y.mean() * x.mean())\n",
    "    a = rxy / sx\n",
    "    da = (1/(len(x) - 2) * (sy/sx - a**2))**(0.5)\n",
    "    b = y.mean() - a * x.mean()\n",
    "    db = da*(sx + (x.mean())**2)**(1/2)\n",
    "    dat = pd.DataFrame({\n",
    "        '$\\overline{x}$' : [x.mean()],\n",
    "        '$\\sigma_x^2$'   : [sx],\n",
    "        '$\\overline{y}$' : [y.mean()],\n",
    "        '$\\sigma_y^2$'   : [sy],\n",
    "        '$r_{xy}$'       : [rxy],\n",
    "        '$a$'            : [a],\n",
    "        '$\\Delta a$'     : [da],\n",
    "        '$b$'            : [b],\n",
    "        '$\\Delta b$'     : [db],\n",
    "    })\n",
    "    return dat#, [x.mean(), sx, y.mean(), sy, rxy, a, da, b, db]"
   ]
  },
  {
   "cell_type": "code",
   "execution_count": 222,
   "id": "f3f4b082",
   "metadata": {
    "scrolled": false
   },
   "outputs": [],
   "source": [
    "d3 = pd.read_excel(f\"data/330.xlsx\")\n",
    "d4 = pd.read_excel(f\"data/450.xlsx\")\n",
    "d5 = pd.read_excel(f\"data/550.xlsx\")"
   ]
  },
  {
   "cell_type": "code",
   "execution_count": 223,
   "id": "9c250844",
   "metadata": {},
   "outputs": [],
   "source": [
    "ignore = ()"
   ]
  },
  {
   "cell_type": "code",
   "execution_count": 224,
   "id": "0988fce5",
   "metadata": {},
   "outputs": [],
   "source": [
    "T = lambda x: np.delete(np.array(x['t'], dtype=np.double), ignore)\n",
    "L = lambda x: np.delete(np.array(x['l'], dtype=np.double), ignore) * 9.8067 * 0.2 * 0.9932\n",
    "V = lambda x: np.delete(np.array(x['v'], dtype=np.double), ignore)"
   ]
  },
  {
   "cell_type": "code",
   "execution_count": 225,
   "id": "8d5fb3e4",
   "metadata": {},
   "outputs": [],
   "source": [
    "Q = lambda x: V(x) / T(x)"
   ]
  },
  {
   "cell_type": "code",
   "execution_count": 239,
   "id": "b86f4d9f",
   "metadata": {
    "scrolled": true
   },
   "outputs": [
    {
     "name": "stdout",
     "output_type": "stream",
     "text": [
      "5mm = [ 0.00204564 -0.00179758]\n",
      "   $\\overline{x}$  $\\sigma_x^2$  $\\overline{y}$  $\\sigma_y^2$  $r_{xy}$       $a$  $\\Delta a$       $b$  $\\Delta b$\n",
      "0       34.090051    276.697987        0.067938      0.001159  0.566023  0.002046    0.000035 -0.001798    0.001315\n",
      "4mm = [ 0.00060958 -0.00110835]\n",
      "   $\\overline{x}$  $\\sigma_x^2$  $\\overline{y}$  $\\sigma_y^2$  $r_{xy}$      $a$  $\\Delta a$       $b$  $\\Delta b$\n",
      "0       67.855434   1138.941619        0.040255      0.000424  0.694277  0.00061     0.00001 -0.001108     0.00074\n",
      "3mm = [0.00034108 0.00098605]\n",
      "   $\\overline{x}$  $\\sigma_x^2$  $\\overline{y}$  $\\sigma_y^2$  $r_{xy}$       $a$  $\\Delta a$       $b$  $\\Delta b$\n",
      "0       65.745097    1409.18332        0.023411      0.000165  0.480647  0.000341    0.000009  0.000986    0.000719\n"
     ]
    },
    {
     "data": {
      "image/png": "[encoded data removed]",
      "text/plain": [
       "<Figure size 432x288 with 1 Axes>"
      ]
     },
     "metadata": {
      "needs_background": "light"
     },
     "output_type": "display_data"
    }
   ],
   "source": [
    "SIZE = 15\n",
    "ignore = ()\n",
    "plt.scatter(L(d3), Q(d3), label='Трубка 3 мм', s=SIZE, marker='.', c='orange')\n",
    "plt.scatter(L(d4), Q(d4), label='Трубка 4 мм', s=SIZE, marker='*', c='green')\n",
    "plt.scatter(L(d5), Q(d5), label='Трубка 5 мм', s=SIZE, marker='^', c='blue')\n",
    "\n",
    "f = lambda t: p[0]*t + p[1]\n",
    "\n",
    "ignore5 = ignore = (range(5, 11))\n",
    "p = np.polyfit(L(d5), Q(d5), 1)\n",
    "t = np.linspace(L(d5).min(), L(d5).max())\n",
    "plt.plot(t, f(t), c='blue')\n",
    "print(\"5mm =\", p)\n",
    "print(mnk(L(d5), Q(d5)).to_string())\n",
    "\n",
    "ignore4 = ignore = (range(6, 21))\n",
    "p = np.polyfit(L(d4), Q(d4), 1)\n",
    "t = np.linspace(L(d4).min(), L(d4).max())\n",
    "plt.plot(t, f(t), c='green')\n",
    "print(\"4mm =\", p)\n",
    "print(mnk(L(d4), Q(d4)).to_string())\n",
    "\n",
    "ignore3 = ignore = (range(12, 17))\n",
    "p = np.polyfit(L(d3), Q(d3), 1)\n",
    "t = np.linspace(L(d3).min(), L(d3).max())\n",
    "plt.plot(t, f(t), c='orange')\n",
    "print(\"3mm =\", p)\n",
    "print(mnk(L(d3), Q(d3)).to_string())\n",
    "\n",
    "\n",
    "plt.xlabel(r\"$P$, $мм сп.ст.$\")\n",
    "plt.ylabel(r\"$Q$, $л / с$\")\n",
    "\n",
    "plt.legend()\n",
    "plt.savefig('QdP.pdf')"
   ]
  },
  {
   "cell_type": "code",
   "execution_count": 243,
   "id": "a9973c9a",
   "metadata": {},
   "outputs": [
    {
     "data": {
      "text/plain": [
       "0.026392961876832845"
      ]
     },
     "execution_count": 243,
     "metadata": {},
     "output_type": "execute_result"
    }
   ],
   "source": [
    " 0.000009 /0.000341"
   ]
  },
  {
   "cell_type": "code",
   "execution_count": 195,
   "id": "06e9b9e5",
   "metadata": {},
   "outputs": [],
   "source": [
    "ignore = ()\n",
    "export = lambda x: pd.DataFrame({\n",
    "    't' : T(x).tolist(),\n",
    "    'v' : V(x).tolist(),\n",
    "    'q' : Q(x).tolist(),\n",
    "    'p' : L(x).tolist(),\n",
    "})\n",
    "\n",
    "fmt = {\n",
    "    't' : \"{:.2f}\",\n",
    "    'v' : \"{:.2f}\",\n",
    "    'q' : \"{:.4f}\",\n",
    "    'p' : \"{:.2f}\",\n",
    "}\n",
    "\n",
    "save_table(export(d3), 'tab3.tex', fmt)\n",
    "save_table(export(d4), 'tab4.tex', fmt)\n",
    "save_table(export(d5), 'tab5.tex', fmt)"
   ]
  },
  {
   "cell_type": "code",
   "execution_count": 244,
   "id": "3dafa4da",
   "metadata": {},
   "outputs": [
    {
     "data": {
      "text/plain": [
       "0.012658227848101266"
      ]
     },
     "execution_count": 244,
     "metadata": {},
     "output_type": "execute_result"
    }
   ],
   "source": [
    "0.05/3.95"
   ]
  },
  {
   "cell_type": "code",
   "execution_count": 196,
   "id": "86bda3ba",
   "metadata": {},
   "outputs": [],
   "source": [
    "eta = lambda R, l, A: 3.14 * (R/2)**4 / (8 * l * A * 1e-3)"
   ]
  },
  {
   "cell_type": "code",
   "execution_count": 246,
   "id": "11022556",
   "metadata": {},
   "outputs": [
    {
     "data": {
      "text/plain": [
       "0.09709507300340095"
      ]
     },
     "execution_count": 246,
     "metadata": {},
     "output_type": "execute_result"
    }
   ],
   "source": [
    "eta3 = eta(3e-3, 0.3, 0.00034108 )\n",
    "eta3"
   ]
  },
  {
   "cell_type": "code",
   "execution_count": 248,
   "id": "31fcefea",
   "metadata": {},
   "outputs": [
    {
     "data": {
      "text/plain": [
       "0.09796644559894212"
      ]
     },
     "execution_count": 248,
     "metadata": {},
     "output_type": "execute_result"
    }
   ],
   "source": [
    "eta4 = eta(3.95e-3, 0.5, 0.00060958 )\n",
    "eta4 * 0.05 *1e5"
   ]
  },
  {
   "cell_type": "code",
   "execution_count": 247,
   "id": "0e969101",
   "metadata": {},
   "outputs": [
    {
     "data": {
      "text/plain": [
       "0.08112807582529187"
      ]
     },
     "execution_count": 247,
     "metadata": {},
     "output_type": "execute_result"
    }
   ],
   "source": [
    "eta5 = eta(5.10e-3, 0.5, 0.00204564)\n",
    "eta5 * 0.05 *1e5"
   ]
  },
  {
   "cell_type": "code",
   "execution_count": 200,
   "id": "0b8946e6",
   "metadata": {},
   "outputs": [],
   "source": [
    "p3 = pd.read_excel(f\"data/3.xlsx\")\n",
    "p4 = pd.read_excel(f\"data/4.xlsx\")\n",
    "p5 = pd.read_excel(f\"data/5.xlsx\")"
   ]
  },
  {
   "cell_type": "code",
   "execution_count": 201,
   "id": "778d1ead",
   "metadata": {},
   "outputs": [],
   "source": [
    "X = lambda x: np.delete(np.array(x['x'], dtype=np.double), ignore)"
   ]
  },
  {
   "cell_type": "code",
   "execution_count": 202,
   "id": "d365c3dd",
   "metadata": {},
   "outputs": [],
   "source": [
    "ignore = ()\n",
    "export = lambda x: pd.DataFrame({\n",
    "    'x' : X(x).tolist(),\n",
    "    'p' : L(x).tolist(),\n",
    "})\n",
    "\n",
    "fmt = {\n",
    "    'p' : \"{:.2f}\",\n",
    "    'x' : \"{:.2f}\",\n",
    "}\n",
    "\n",
    "save_table(export(p3), 'ptab3.tex', fmt)\n",
    "save_table(export(p4), 'ptab4.tex', fmt)\n",
    "save_table(export(p5), 'ptab5.tex', fmt)"
   ]
  },
  {
   "cell_type": "code",
   "execution_count": 234,
   "id": "c09c5296",
   "metadata": {
    "scrolled": true
   },
   "outputs": [
    {
     "name": "stdout",
     "output_type": "stream",
     "text": [
      "3mm = [ 3.24667148 86.36146137]\n",
      "4mm = [ 2.68888267 58.23953815]\n",
      "5mm = [ 0.97400144 49.96627408]\n"
     ]
    },
    {
     "data": {
      "image/png": "[encoded data removed]",
      "text/plain": [
       "<Figure size 432x288 with 1 Axes>"
      ]
     },
     "metadata": {
      "needs_background": "light"
     },
     "output_type": "display_data"
    }
   ],
   "source": [
    "SIZE = 15\n",
    "ignore = ()\n",
    "plt.scatter(X(p3), L(p3), label='Трубка 3 мм', s=SIZE, marker='.', c='orange')\n",
    "plt.scatter(X(p4), L(p4), label='Трубка 4 мм', s=SIZE, marker='*', c='green')\n",
    "plt.scatter(X(p5), L(p5), label='Трубка 5 мм', s=SIZE, marker='^', c='blue')\n",
    "\n",
    "f = lambda t: p[0]*t + p[1]\n",
    "\n",
    "ignore = (0)\n",
    "p = np.polyfit(X(p3), L(p3), 1)\n",
    "ignore = ()\n",
    "t = np.linspace(X(p3).min(), X(p3).max())\n",
    "plt.plot(t, f(t), ':', c='orange')\n",
    "print(\"3mm =\", p)\n",
    "\n",
    "ignore = (0)\n",
    "p = np.polyfit(X(p4), L(p4), 1)\n",
    "ignore = ()\n",
    "t = np.linspace(X(p4).min(), X(p4).max())\n",
    "plt.plot(t, f(t),':', c='green')\n",
    "print(\"4mm =\", p)\n",
    "\n",
    "ignore = (0)\n",
    "p = np.polyfit(X(p5), L(p5), 1)\n",
    "ignore = ()\n",
    "t = np.linspace(X(p5).min(), X(p5).max())\n",
    "plt.plot(t, f(t),':', c='blue')\n",
    "print(\"5mm =\", p)\n",
    "\n",
    "plt.xlabel(r\"$X$, $см$\")\n",
    "plt.ylabel(r\"$P$, $Па$\")\n",
    "\n",
    "plt.legend()\n",
    "plt.savefig('PX.pdf')"
   ]
  },
  {
   "cell_type": "code",
   "execution_count": 104,
   "id": "149c9477",
   "metadata": {},
   "outputs": [],
   "source": [
    "lineary = lambda x, l, eta: np.log(Q(x) / L(x) * eta * l)\n",
    "linearx = lambda x, r: np.full(Q(x).size, np.log(r))"
   ]
  },
  {
   "cell_type": "code",
   "execution_count": 233,
   "id": "624bff69",
   "metadata": {},
   "outputs": [
    {
     "name": "stdout",
     "output_type": "stream",
     "text": [
      "[3.81402063 2.16222292]\n",
      "   $\\overline{x}$  $\\sigma_x^2$  $\\overline{y}$  $\\sigma_y^2$  $r_{xy}$       $a$  $\\Delta a$       $b$  $\\Delta b$\n",
      "0        -5.60771      0.048737      -19.225699      0.711242  0.185883  3.814021    0.046102  2.162223    0.258724\n"
     ]
    },
    {
     "data": {
      "image/png": "[encoded data removed]",
      "text/plain": [
       "<Figure size 432x288 with 1 Axes>"
      ]
     },
     "metadata": {
      "needs_background": "light"
     },
     "output_type": "display_data"
    }
   ],
   "source": [
    "ignore = ()\n",
    "\n",
    "SIZE = 10\n",
    "f = lambda t: p[0]*t + p[1]\n",
    "\n",
    "ignore = ignore3\n",
    "x3 = linearx(d3, 3e-3)\n",
    "y3 = lineary(d3, 0.3, eta3)\n",
    "plt.scatter(x3, y3, s=SIZE, label=\"3 мм\", c='r')\n",
    "\n",
    "ignore = ignore4\n",
    "x4 = linearx(d4, 3.95e-3)\n",
    "y4 = lineary(d4, 0.5, eta4)\n",
    "plt.scatter(x4, y4, s=SIZE, label=\"4 мм\", c='g')\n",
    "\n",
    "ignore = ignore5\n",
    "x5 = linearx(d5, 5.1e-3)\n",
    "y5 = lineary(d5, 0.5, eta5)\n",
    "plt.scatter(x5, y5, s=SIZE, label=\"5 мм\", c='orange')\n",
    "\n",
    "x = np.concatenate((x3, x4, x5))\n",
    "y = np.concatenate((y3, y4, y5))\n",
    "\n",
    "t = np.linspace(x.min() * 1.004, x.max() * 0.994)\n",
    "p = np.polyfit(x, y, 1)\n",
    "\n",
    "plt.plot(t, f(t), '--', c='black', linewidth=0.6)\n",
    "print(p)\n",
    "print(mnk(x, y).to_string())\n",
    "\n",
    "plt.ylabel(r\"$\\ln{Q \\eta l/p}$\")\n",
    "plt.xlabel(r\"$\\ln{P}$\")\n",
    "\n",
    "plt.legend()\n",
    "plt.savefig('LN.pdf')\n",
    "\n",
    "fmt = {\n",
    "    'x' : \"{:.3f}\",\n",
    "    'y' : \"{:.3f}\",\n",
    "}\n",
    "\n",
    "save_table(pd.DataFrame({\n",
    "    'x' : x,\n",
    "    'y' : y\n",
    "}), 'lntab.tex', fmt)"
   ]
  },
  {
   "cell_type": "code",
   "execution_count": 253,
   "id": "506ffa9b",
   "metadata": {},
   "outputs": [
    {
     "data": {
      "text/plain": [
       "656.6419331538511"
      ]
     },
     "execution_count": 253,
     "metadata": {},
     "output_type": "execute_result"
    }
   ],
   "source": [
    "0.05e-3 * 1.2 / (3.14 * 1.94e-5 * (3e-3/2)) \n"
   ]
  },
  {
   "cell_type": "code",
   "execution_count": 254,
   "id": "628619eb",
   "metadata": {},
   "outputs": [
    {
     "data": {
      "text/plain": [
       "691.0770435724075"
      ]
     },
     "execution_count": 254,
     "metadata": {},
     "output_type": "execute_result"
    }
   ],
   "source": [
    "0.07e-3 * 1.2 / (3.14 * 1.96e-5 * (3.95e-3/2)) "
   ]
  },
  {
   "cell_type": "code",
   "execution_count": 257,
   "id": "785b692a",
   "metadata": {
    "scrolled": true
   },
   "outputs": [
    {
     "data": {
      "text/plain": [
       "1110.1397388396263"
      ]
     },
     "execution_count": 257,
     "metadata": {},
     "output_type": "execute_result"
    }
   ],
   "source": [
    "0.12e-3 * 1.2 / (3.14 * 1.62e-5 * (5.1e-3/2)) "
   ]
  },
  {
   "cell_type": "code",
   "execution_count": 258,
   "id": "55c093f7",
   "metadata": {},
   "outputs": [
    {
     "data": {
      "text/plain": [
       "0.39360000000000006"
      ]
     },
     "execution_count": 258,
     "metadata": {},
     "output_type": "execute_result"
    }
   ],
   "source": [
    "0.2 * 656 * 3e-3"
   ]
  },
  {
   "cell_type": "code",
   "execution_count": 259,
   "id": "d14baf46",
   "metadata": {},
   "outputs": [
    {
     "data": {
      "text/plain": [
       "0.53898"
      ]
     },
     "execution_count": 259,
     "metadata": {},
     "output_type": "execute_result"
    }
   ],
   "source": [
    "0.2 * 691 * 3.9e-3"
   ]
  },
  {
   "cell_type": "code",
   "execution_count": 261,
   "id": "772b0b52",
   "metadata": {},
   "outputs": [
    {
     "data": {
      "text/plain": [
       "0.5661"
      ]
     },
     "execution_count": 261,
     "metadata": {},
     "output_type": "execute_result"
    }
   ],
   "source": [
    "1110 * 5.1e-3 * 0.2 /2"
   ]
  },
  {
   "cell_type": "code",
   "execution_count": null,
   "id": "3c5569e5",
   "metadata": {},
   "outputs": [],
   "source": []
  }
 ],
 "metadata": {
  "kernelspec": {
   "display_name": "Python 3 (ipykernel)",
   "language": "python",
   "name": "python3"
  },
  "language_info": {
   "codemirror_mode": {
    "name": "ipython",
    "version": 3
   },
   "file_extension": ".py",
   "mimetype": "text/x-python",
   "name": "python",
   "nbconvert_exporter": "python",
   "pygments_lexer": "ipython3",
   "version": "3.10.2"
  }
 },
 "nbformat": 4,
 "nbformat_minor": 5
}
